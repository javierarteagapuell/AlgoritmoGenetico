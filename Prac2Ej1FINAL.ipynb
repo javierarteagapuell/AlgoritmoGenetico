{
  "nbformat": 4,
  "nbformat_minor": 0,
  "metadata": {
    "colab": {
      "provenance": [],
      "include_colab_link": true
    },
    "kernelspec": {
      "name": "python3",
      "display_name": "Python 3"
    },
    "language_info": {
      "name": "python"
    }
  },
  "cells": [
    {
      "cell_type": "markdown",
      "metadata": {
        "id": "view-in-github",
        "colab_type": "text"
      },
      "source": [
        "<a href=\"https://colab.research.google.com/github/javierarteagapuell/AlgoritmoGenetico/blob/main/Prac2Ej1FINAL.ipynb\" target=\"_parent\"><img src=\"https://colab.research.google.com/assets/colab-badge.svg\" alt=\"Open In Colab\"/></a>"
      ]
    },
    {
      "cell_type": "markdown",
      "source": [
        "# Funcionamiento de las LIBRERIAS mlxtend o apyori"
      ],
      "metadata": {
        "id": "5LlBpXd2yhHC"
      }
    },
    {
      "cell_type": "code",
      "source": [],
      "metadata": {
        "id": "2WxRYIP6HSpp"
      },
      "execution_count": null,
      "outputs": []
    },
    {
      "cell_type": "code",
      "source": [
        "import numpy as np\n",
        "import pandas as pd\n",
        "import matplotlib.pyplot as plt\n",
        "from sklearn import datasets\n",
        "\n",
        "from mlxtend.frequent_patterns import apriori, association_rules\n",
        "\n",
        "#pip install mlxtend  "
      ],
      "metadata": {
        "id": "Rt81YtPQyGrH"
      },
      "execution_count": null,
      "outputs": []
    },
    {
      "cell_type": "code",
      "source": [
        "data = pd.read_csv('BlackFriday.csv', encoding='UTF-8')\n",
        "data.head()\n"
      ],
      "metadata": {
        "colab": {
          "base_uri": "https://localhost:8080/",
          "height": 357
        },
        "id": "ZMwQHeXs3wI8",
        "outputId": "8fc338c1-8ac0-4f22-f6a6-9c1967cd133d"
      },
      "execution_count": null,
      "outputs": [
        {
          "output_type": "execute_result",
          "data": {
            "text/plain": [
              "   User_ID Product_ID Gender    Age  Occupation City_Category  \\\n",
              "0  1000004  P00128942      M  46-50           7             B   \n",
              "1  1000009  P00113442      M  26-35          17             C   \n",
              "2  1000010  P00288442      F  36-45           1             B   \n",
              "3  1000010  P00145342      F  36-45           1             B   \n",
              "4  1000011  P00053842      F  26-35           1             C   \n",
              "\n",
              "  Stay_In_Current_City_Years  Marital_Status  Product_Category_1  \\\n",
              "0                          2               1                   1   \n",
              "1                          0               0                   3   \n",
              "2                         4+               1                   5   \n",
              "3                         4+               1                   4   \n",
              "4                          1               0                   4   \n",
              "\n",
              "   Product_Category_2  Product_Category_3  \n",
              "0                11.0                 NaN  \n",
              "1                 5.0                 NaN  \n",
              "2                14.0                 NaN  \n",
              "3                 9.0                 NaN  \n",
              "4                 5.0                12.0  "
            ],
            "text/html": [
              "\n",
              "  <div id=\"df-a902231c-64d1-48c7-8f14-9473360a28df\">\n",
              "    <div class=\"colab-df-container\">\n",
              "      <div>\n",
              "<style scoped>\n",
              "    .dataframe tbody tr th:only-of-type {\n",
              "        vertical-align: middle;\n",
              "    }\n",
              "\n",
              "    .dataframe tbody tr th {\n",
              "        vertical-align: top;\n",
              "    }\n",
              "\n",
              "    .dataframe thead th {\n",
              "        text-align: right;\n",
              "    }\n",
              "</style>\n",
              "<table border=\"1\" class=\"dataframe\">\n",
              "  <thead>\n",
              "    <tr style=\"text-align: right;\">\n",
              "      <th></th>\n",
              "      <th>User_ID</th>\n",
              "      <th>Product_ID</th>\n",
              "      <th>Gender</th>\n",
              "      <th>Age</th>\n",
              "      <th>Occupation</th>\n",
              "      <th>City_Category</th>\n",
              "      <th>Stay_In_Current_City_Years</th>\n",
              "      <th>Marital_Status</th>\n",
              "      <th>Product_Category_1</th>\n",
              "      <th>Product_Category_2</th>\n",
              "      <th>Product_Category_3</th>\n",
              "    </tr>\n",
              "  </thead>\n",
              "  <tbody>\n",
              "    <tr>\n",
              "      <th>0</th>\n",
              "      <td>1000004</td>\n",
              "      <td>P00128942</td>\n",
              "      <td>M</td>\n",
              "      <td>46-50</td>\n",
              "      <td>7</td>\n",
              "      <td>B</td>\n",
              "      <td>2</td>\n",
              "      <td>1</td>\n",
              "      <td>1</td>\n",
              "      <td>11.0</td>\n",
              "      <td>NaN</td>\n",
              "    </tr>\n",
              "    <tr>\n",
              "      <th>1</th>\n",
              "      <td>1000009</td>\n",
              "      <td>P00113442</td>\n",
              "      <td>M</td>\n",
              "      <td>26-35</td>\n",
              "      <td>17</td>\n",
              "      <td>C</td>\n",
              "      <td>0</td>\n",
              "      <td>0</td>\n",
              "      <td>3</td>\n",
              "      <td>5.0</td>\n",
              "      <td>NaN</td>\n",
              "    </tr>\n",
              "    <tr>\n",
              "      <th>2</th>\n",
              "      <td>1000010</td>\n",
              "      <td>P00288442</td>\n",
              "      <td>F</td>\n",
              "      <td>36-45</td>\n",
              "      <td>1</td>\n",
              "      <td>B</td>\n",
              "      <td>4+</td>\n",
              "      <td>1</td>\n",
              "      <td>5</td>\n",
              "      <td>14.0</td>\n",
              "      <td>NaN</td>\n",
              "    </tr>\n",
              "    <tr>\n",
              "      <th>3</th>\n",
              "      <td>1000010</td>\n",
              "      <td>P00145342</td>\n",
              "      <td>F</td>\n",
              "      <td>36-45</td>\n",
              "      <td>1</td>\n",
              "      <td>B</td>\n",
              "      <td>4+</td>\n",
              "      <td>1</td>\n",
              "      <td>4</td>\n",
              "      <td>9.0</td>\n",
              "      <td>NaN</td>\n",
              "    </tr>\n",
              "    <tr>\n",
              "      <th>4</th>\n",
              "      <td>1000011</td>\n",
              "      <td>P00053842</td>\n",
              "      <td>F</td>\n",
              "      <td>26-35</td>\n",
              "      <td>1</td>\n",
              "      <td>C</td>\n",
              "      <td>1</td>\n",
              "      <td>0</td>\n",
              "      <td>4</td>\n",
              "      <td>5.0</td>\n",
              "      <td>12.0</td>\n",
              "    </tr>\n",
              "  </tbody>\n",
              "</table>\n",
              "</div>\n",
              "      <button class=\"colab-df-convert\" onclick=\"convertToInteractive('df-a902231c-64d1-48c7-8f14-9473360a28df')\"\n",
              "              title=\"Convert this dataframe to an interactive table.\"\n",
              "              style=\"display:none;\">\n",
              "        \n",
              "  <svg xmlns=\"http://www.w3.org/2000/svg\" height=\"24px\"viewBox=\"0 0 24 24\"\n",
              "       width=\"24px\">\n",
              "    <path d=\"M0 0h24v24H0V0z\" fill=\"none\"/>\n",
              "    <path d=\"M18.56 5.44l.94 2.06.94-2.06 2.06-.94-2.06-.94-.94-2.06-.94 2.06-2.06.94zm-11 1L8.5 8.5l.94-2.06 2.06-.94-2.06-.94L8.5 2.5l-.94 2.06-2.06.94zm10 10l.94 2.06.94-2.06 2.06-.94-2.06-.94-.94-2.06-.94 2.06-2.06.94z\"/><path d=\"M17.41 7.96l-1.37-1.37c-.4-.4-.92-.59-1.43-.59-.52 0-1.04.2-1.43.59L10.3 9.45l-7.72 7.72c-.78.78-.78 2.05 0 2.83L4 21.41c.39.39.9.59 1.41.59.51 0 1.02-.2 1.41-.59l7.78-7.78 2.81-2.81c.8-.78.8-2.07 0-2.86zM5.41 20L4 18.59l7.72-7.72 1.47 1.35L5.41 20z\"/>\n",
              "  </svg>\n",
              "      </button>\n",
              "      \n",
              "  <style>\n",
              "    .colab-df-container {\n",
              "      display:flex;\n",
              "      flex-wrap:wrap;\n",
              "      gap: 12px;\n",
              "    }\n",
              "\n",
              "    .colab-df-convert {\n",
              "      background-color: #E8F0FE;\n",
              "      border: none;\n",
              "      border-radius: 50%;\n",
              "      cursor: pointer;\n",
              "      display: none;\n",
              "      fill: #1967D2;\n",
              "      height: 32px;\n",
              "      padding: 0 0 0 0;\n",
              "      width: 32px;\n",
              "    }\n",
              "\n",
              "    .colab-df-convert:hover {\n",
              "      background-color: #E2EBFA;\n",
              "      box-shadow: 0px 1px 2px rgba(60, 64, 67, 0.3), 0px 1px 3px 1px rgba(60, 64, 67, 0.15);\n",
              "      fill: #174EA6;\n",
              "    }\n",
              "\n",
              "    [theme=dark] .colab-df-convert {\n",
              "      background-color: #3B4455;\n",
              "      fill: #D2E3FC;\n",
              "    }\n",
              "\n",
              "    [theme=dark] .colab-df-convert:hover {\n",
              "      background-color: #434B5C;\n",
              "      box-shadow: 0px 1px 3px 1px rgba(0, 0, 0, 0.15);\n",
              "      filter: drop-shadow(0px 1px 2px rgba(0, 0, 0, 0.3));\n",
              "      fill: #FFFFFF;\n",
              "    }\n",
              "  </style>\n",
              "\n",
              "      <script>\n",
              "        const buttonEl =\n",
              "          document.querySelector('#df-a902231c-64d1-48c7-8f14-9473360a28df button.colab-df-convert');\n",
              "        buttonEl.style.display =\n",
              "          google.colab.kernel.accessAllowed ? 'block' : 'none';\n",
              "\n",
              "        async function convertToInteractive(key) {\n",
              "          const element = document.querySelector('#df-a902231c-64d1-48c7-8f14-9473360a28df');\n",
              "          const dataTable =\n",
              "            await google.colab.kernel.invokeFunction('convertToInteractive',\n",
              "                                                     [key], {});\n",
              "          if (!dataTable) return;\n",
              "\n",
              "          const docLinkHtml = 'Like what you see? Visit the ' +\n",
              "            '<a target=\"_blank\" href=https://colab.research.google.com/notebooks/data_table.ipynb>data table notebook</a>'\n",
              "            + ' to learn more about interactive tables.';\n",
              "          element.innerHTML = '';\n",
              "          dataTable['output_type'] = 'display_data';\n",
              "          await google.colab.output.renderOutput(dataTable, element);\n",
              "          const docLink = document.createElement('div');\n",
              "          docLink.innerHTML = docLinkHtml;\n",
              "          element.appendChild(docLink);\n",
              "        }\n",
              "      </script>\n",
              "    </div>\n",
              "  </div>\n",
              "  "
            ]
          },
          "metadata": {},
          "execution_count": 2
        }
      ]
    },
    {
      "cell_type": "code",
      "source": [
        "data.columns"
      ],
      "metadata": {
        "id": "fNBThuo14kbd",
        "outputId": "0fd94253-e1de-4c60-9f59-6d4c6c09b52f",
        "colab": {
          "base_uri": "https://localhost:8080/"
        }
      },
      "execution_count": null,
      "outputs": [
        {
          "output_type": "execute_result",
          "data": {
            "text/plain": [
              "Index(['User_ID', 'Product_ID', 'Gender', 'Age', 'Occupation', 'City_Category',\n",
              "       'Stay_In_Current_City_Years', 'Marital_Status', 'Product_Category_1',\n",
              "       'Product_Category_2', 'Product_Category_3'],\n",
              "      dtype='object')"
            ]
          },
          "metadata": {},
          "execution_count": 3
        }
      ]
    },
    {
      "cell_type": "markdown",
      "source": [
        "Vamos a ver las ocurrencias de datos en las columnas de nuestro dataframe. Obviaremos product ID y user ID ya que los dos son unicos o hay muchos registros distintos de cada valor.\n"
      ],
      "metadata": {
        "id": "QQ5PPYqx3mVH"
      }
    },
    {
      "cell_type": "code",
      "source": [
        "cols_interes= data.columns[2:]\n",
        "for col in cols_interes:\n",
        "    print(f'Valores de la columa {col}: {data[col].unique()}')"
      ],
      "metadata": {
        "id": "8Vezukm73lnr",
        "outputId": "e3db64bd-1632-48cc-d3f8-62b176313348",
        "colab": {
          "base_uri": "https://localhost:8080/"
        }
      },
      "execution_count": null,
      "outputs": [
        {
          "output_type": "stream",
          "name": "stdout",
          "text": [
            "Valores de la columa Gender: ['M' 'F']\n",
            "Valores de la columa Age: ['46-50' '26-35' '36-45' '18-25' '51-55' '55+' '0-17']\n",
            "Valores de la columa Occupation: [ 7 17  1 15  3  0  8 16  4 12 13 18 11  9  2 20 14 10  6 19  5]\n",
            "Valores de la columa City_Category: ['B' 'C' 'A']\n",
            "Valores de la columa Stay_In_Current_City_Years: ['2' '0' '4+' '1' '3']\n",
            "Valores de la columa Marital_Status: [1 0]\n",
            "Valores de la columa Product_Category_1: [ 1  3  5  4  2 10 15 18  8 13  6 11 12  7 16 14 17  9]\n",
            "Valores de la columa Product_Category_2: [11.  5. 14.  9.  3.  4. 13.  2. nan  8. 15. 17. 12. 16.  6. 10. 18.  7.]\n",
            "Valores de la columa Product_Category_3: [nan 12. 15.  9. 16. 14.  4.  3.  5.  8. 17. 13. 11. 10.  6. 18.]\n"
          ]
        }
      ]
    },
    {
      "cell_type": "markdown",
      "source": [
        "Vemos que las columas de Gender y Maritial Status son binarias. Las demas de pueden pasar a categoricas usando la fucnion .get_dummies. Esto lo haremos mas alanete ya que primero hay que comprobar si hay valores repetidos o nulos."
      ],
      "metadata": {
        "id": "qJ8c6vc55DAy"
      }
    },
    {
      "cell_type": "code",
      "source": [
        "data.isnull().values.any() "
      ],
      "metadata": {
        "id": "b24Boari4iUE",
        "outputId": "88821e31-cd6c-4c38-f1a3-0bc882fc3021",
        "colab": {
          "base_uri": "https://localhost:8080/"
        }
      },
      "execution_count": null,
      "outputs": [
        {
          "output_type": "execute_result",
          "data": {
            "text/plain": [
              "True"
            ]
          },
          "metadata": {},
          "execution_count": 5
        }
      ]
    },
    {
      "cell_type": "markdown",
      "source": [
        "Vemos en que columnas hay NA's"
      ],
      "metadata": {
        "id": "zH2WdB3mN-lr"
      }
    },
    {
      "cell_type": "code",
      "source": [
        "data.isna().sum()  "
      ],
      "metadata": {
        "id": "kXA6d1dBNkgH",
        "outputId": "193ce8ab-ac6d-40ce-a1e3-9ef94b5c02e1",
        "colab": {
          "base_uri": "https://localhost:8080/"
        }
      },
      "execution_count": null,
      "outputs": [
        {
          "output_type": "execute_result",
          "data": {
            "text/plain": [
              "User_ID                            0\n",
              "Product_ID                         0\n",
              "Gender                             0\n",
              "Age                                0\n",
              "Occupation                         0\n",
              "City_Category                      0\n",
              "Stay_In_Current_City_Years         0\n",
              "Marital_Status                     0\n",
              "Product_Category_1                 0\n",
              "Product_Category_2             72344\n",
              "Product_Category_3            162562\n",
              "dtype: int64"
            ]
          },
          "metadata": {},
          "execution_count": 6
        }
      ]
    },
    {
      "cell_type": "markdown",
      "source": [
        "Los valores de NaN aparecen en Product Category. Vamos a comprobar el rango de valores para estas dos categorias."
      ],
      "metadata": {
        "id": "KifAX0FySITb"
      }
    },
    {
      "cell_type": "code",
      "source": [
        "print(data['Product_Category_1'].min(), data['Product_Category_1'].max(), data['Product_Category_1'].mean())"
      ],
      "metadata": {
        "id": "kNF3BI2qQIFB",
        "outputId": "b7439496-53cf-4b59-f88e-86287e7171c6",
        "colab": {
          "base_uri": "https://localhost:8080/"
        }
      },
      "execution_count": null,
      "outputs": [
        {
          "output_type": "stream",
          "name": "stdout",
          "text": [
            "1 18 5.276542279718663\n"
          ]
        }
      ]
    },
    {
      "cell_type": "code",
      "source": [
        "print(data['Product_Category_2'].min(), data['Product_Category_2'].max(), data['Product_Category_2'].mean())\n"
      ],
      "metadata": {
        "id": "ZC-dd7r_RjWk",
        "outputId": "fb4ff619-4d63-4406-d107-c464e1dde1d8",
        "colab": {
          "base_uri": "https://localhost:8080/"
        }
      },
      "execution_count": null,
      "outputs": [
        {
          "output_type": "stream",
          "name": "stdout",
          "text": [
            "2.0 18.0 9.849586059346997\n"
          ]
        }
      ]
    },
    {
      "cell_type": "code",
      "source": [
        "print(data['Product_Category_3'].min(), data['Product_Category_3'].max(), data['Product_Category_3'].mean())"
      ],
      "metadata": {
        "id": "bj1yUTAAR3XV",
        "outputId": "bfa89110-59b0-4809-d3f5-cbc902319f8f",
        "colab": {
          "base_uri": "https://localhost:8080/"
        }
      },
      "execution_count": null,
      "outputs": [
        {
          "output_type": "stream",
          "name": "stdout",
          "text": [
            "3.0 18.0 12.669453946534905\n"
          ]
        }
      ]
    },
    {
      "cell_type": "markdown",
      "source": [
        "Observamos que las dos columnas tienen valores minimos de 2 y 3 respectivamente. Por tanto los valores NaN se pueden igualar a 0 para que asi se contemplen en el analisis de los datos pero no influyan al estudio. "
      ],
      "metadata": {
        "id": "D5xJB1FrSYCb"
      }
    },
    {
      "cell_type": "code",
      "source": [
        "data.fillna(0, inplace=True)"
      ],
      "metadata": {
        "id": "8DOQZ6VxOh6C"
      },
      "execution_count": null,
      "outputs": []
    },
    {
      "cell_type": "markdown",
      "source": [
        "Vemos si hay algún dato duplicado"
      ],
      "metadata": {
        "id": "K6y1V4vGSSSL"
      }
    },
    {
      "cell_type": "code",
      "source": [
        "if any(data.duplicated()):\n",
        "  print(\"Hay datos duplicados\")\n",
        "else:\n",
        "  print(\"No hay datos duplicados\")"
      ],
      "metadata": {
        "id": "4M4fwdekzzD7",
        "outputId": "d47c2639-0554-4547-9d2d-95443b689689",
        "colab": {
          "base_uri": "https://localhost:8080/"
        }
      },
      "execution_count": null,
      "outputs": [
        {
          "output_type": "stream",
          "name": "stdout",
          "text": [
            "No hay datos duplicados\n"
          ]
        }
      ]
    },
    {
      "cell_type": "markdown",
      "source": [
        "- Prueba al menos tres configuraciones de soporte y frecuencia para cada género, edad y tipo de producto."
      ],
      "metadata": {
        "id": "oPtk1pVpHjde"
      }
    },
    {
      "cell_type": "code",
      "source": [
        "# Variables categoricas a dummy \n",
        "dummy_df = pd.get_dummies(data,columns=['Product_ID','Gender','Age','Occupation','City_Category','Stay_In_Current_City_Years','Marital_Status','Product_Category_1','Product_Category_2','Product_Category_3'])\n",
        "\n",
        "# Concatenamos las variables dummy con el DataFrame original\n",
        "data4 = pd.concat([data, dummy_df], axis=1)\n",
        "\n",
        "# Drop las columnas originales. Ademas Drop de User_ID ya que es unico para cada cliente\n",
        "data4.drop(['User_ID','Product_ID','Gender','Age','Occupation','City_Category','Stay_In_Current_City_Years','Marital_Status','Product_Category_1','Product_Category_2','Product_Category_3'], axis=1, inplace=True)\n",
        "\n",
        "data4\n",
        "\n"
      ],
      "metadata": {
        "id": "qfz6zFwz2wzA",
        "outputId": "d86226ca-ce50-40f0-92d9-b8641dfaa925",
        "colab": {
          "base_uri": "https://localhost:8080/",
          "height": 487
        }
      },
      "execution_count": null,
      "outputs": [
        {
          "output_type": "execute_result",
          "data": {
            "text/plain": [
              "        Product_ID_P00000142  Product_ID_P00000242  Product_ID_P00000342  \\\n",
              "0                          0                     0                     0   \n",
              "1                          0                     0                     0   \n",
              "2                          0                     0                     0   \n",
              "3                          0                     0                     0   \n",
              "4                          0                     0                     0   \n",
              "...                      ...                   ...                   ...   \n",
              "233594                     0                     0                     0   \n",
              "233595                     0                     0                     0   \n",
              "233596                     0                     0                     0   \n",
              "233597                     0                     0                     0   \n",
              "233598                     0                     0                     0   \n",
              "\n",
              "        Product_ID_P00000442  Product_ID_P00000542  Product_ID_P00000642  \\\n",
              "0                          0                     0                     0   \n",
              "1                          0                     0                     0   \n",
              "2                          0                     0                     0   \n",
              "3                          0                     0                     0   \n",
              "4                          0                     0                     0   \n",
              "...                      ...                   ...                   ...   \n",
              "233594                     0                     0                     0   \n",
              "233595                     0                     0                     0   \n",
              "233596                     0                     0                     0   \n",
              "233597                     0                     0                     0   \n",
              "233598                     0                     0                     0   \n",
              "\n",
              "        Product_ID_P00000742  Product_ID_P00000842  Product_ID_P00000942  \\\n",
              "0                          0                     0                     0   \n",
              "1                          0                     0                     0   \n",
              "2                          0                     0                     0   \n",
              "3                          0                     0                     0   \n",
              "4                          0                     0                     0   \n",
              "...                      ...                   ...                   ...   \n",
              "233594                     0                     0                     0   \n",
              "233595                     0                     0                     0   \n",
              "233596                     0                     0                     0   \n",
              "233597                     0                     0                     0   \n",
              "233598                     0                     0                     0   \n",
              "\n",
              "        Product_ID_P00001042  ...  Product_Category_3_9.0  \\\n",
              "0                          0  ...                       0   \n",
              "1                          0  ...                       0   \n",
              "2                          0  ...                       0   \n",
              "3                          0  ...                       0   \n",
              "4                          0  ...                       0   \n",
              "...                      ...  ...                     ...   \n",
              "233594                     0  ...                       0   \n",
              "233595                     0  ...                       0   \n",
              "233596                     0  ...                       0   \n",
              "233597                     0  ...                       0   \n",
              "233598                     0  ...                       0   \n",
              "\n",
              "        Product_Category_3_10.0  Product_Category_3_11.0  \\\n",
              "0                             0                        0   \n",
              "1                             0                        0   \n",
              "2                             0                        0   \n",
              "3                             0                        0   \n",
              "4                             0                        0   \n",
              "...                         ...                      ...   \n",
              "233594                        0                        0   \n",
              "233595                        0                        0   \n",
              "233596                        0                        0   \n",
              "233597                        0                        0   \n",
              "233598                        0                        0   \n",
              "\n",
              "        Product_Category_3_12.0  Product_Category_3_13.0  \\\n",
              "0                             0                        0   \n",
              "1                             0                        0   \n",
              "2                             0                        0   \n",
              "3                             0                        0   \n",
              "4                             1                        0   \n",
              "...                         ...                      ...   \n",
              "233594                        0                        0   \n",
              "233595                        0                        0   \n",
              "233596                        1                        0   \n",
              "233597                        0                        0   \n",
              "233598                        0                        0   \n",
              "\n",
              "        Product_Category_3_14.0  Product_Category_3_15.0  \\\n",
              "0                             0                        0   \n",
              "1                             0                        0   \n",
              "2                             0                        0   \n",
              "3                             0                        0   \n",
              "4                             0                        0   \n",
              "...                         ...                      ...   \n",
              "233594                        0                        0   \n",
              "233595                        0                        0   \n",
              "233596                        0                        0   \n",
              "233597                        0                        0   \n",
              "233598                        0                        0   \n",
              "\n",
              "        Product_Category_3_16.0  Product_Category_3_17.0  \\\n",
              "0                             0                        0   \n",
              "1                             0                        0   \n",
              "2                             0                        0   \n",
              "3                             0                        0   \n",
              "4                             0                        0   \n",
              "...                         ...                      ...   \n",
              "233594                        0                        0   \n",
              "233595                        0                        0   \n",
              "233596                        0                        0   \n",
              "233597                        0                        0   \n",
              "233598                        0                        0   \n",
              "\n",
              "        Product_Category_3_18.0  \n",
              "0                             0  \n",
              "1                             0  \n",
              "2                             0  \n",
              "3                             0  \n",
              "4                             0  \n",
              "...                         ...  \n",
              "233594                        0  \n",
              "233595                        0  \n",
              "233596                        0  \n",
              "233597                        0  \n",
              "233598                        0  \n",
              "\n",
              "[233599 rows x 3583 columns]"
            ],
            "text/html": [
              "\n",
              "  <div id=\"df-0c6c7cae-b5f9-45d8-b5cc-38d0ece63d90\">\n",
              "    <div class=\"colab-df-container\">\n",
              "      <div>\n",
              "<style scoped>\n",
              "    .dataframe tbody tr th:only-of-type {\n",
              "        vertical-align: middle;\n",
              "    }\n",
              "\n",
              "    .dataframe tbody tr th {\n",
              "        vertical-align: top;\n",
              "    }\n",
              "\n",
              "    .dataframe thead th {\n",
              "        text-align: right;\n",
              "    }\n",
              "</style>\n",
              "<table border=\"1\" class=\"dataframe\">\n",
              "  <thead>\n",
              "    <tr style=\"text-align: right;\">\n",
              "      <th></th>\n",
              "      <th>Product_ID_P00000142</th>\n",
              "      <th>Product_ID_P00000242</th>\n",
              "      <th>Product_ID_P00000342</th>\n",
              "      <th>Product_ID_P00000442</th>\n",
              "      <th>Product_ID_P00000542</th>\n",
              "      <th>Product_ID_P00000642</th>\n",
              "      <th>Product_ID_P00000742</th>\n",
              "      <th>Product_ID_P00000842</th>\n",
              "      <th>Product_ID_P00000942</th>\n",
              "      <th>Product_ID_P00001042</th>\n",
              "      <th>...</th>\n",
              "      <th>Product_Category_3_9.0</th>\n",
              "      <th>Product_Category_3_10.0</th>\n",
              "      <th>Product_Category_3_11.0</th>\n",
              "      <th>Product_Category_3_12.0</th>\n",
              "      <th>Product_Category_3_13.0</th>\n",
              "      <th>Product_Category_3_14.0</th>\n",
              "      <th>Product_Category_3_15.0</th>\n",
              "      <th>Product_Category_3_16.0</th>\n",
              "      <th>Product_Category_3_17.0</th>\n",
              "      <th>Product_Category_3_18.0</th>\n",
              "    </tr>\n",
              "  </thead>\n",
              "  <tbody>\n",
              "    <tr>\n",
              "      <th>0</th>\n",
              "      <td>0</td>\n",
              "      <td>0</td>\n",
              "      <td>0</td>\n",
              "      <td>0</td>\n",
              "      <td>0</td>\n",
              "      <td>0</td>\n",
              "      <td>0</td>\n",
              "      <td>0</td>\n",
              "      <td>0</td>\n",
              "      <td>0</td>\n",
              "      <td>...</td>\n",
              "      <td>0</td>\n",
              "      <td>0</td>\n",
              "      <td>0</td>\n",
              "      <td>0</td>\n",
              "      <td>0</td>\n",
              "      <td>0</td>\n",
              "      <td>0</td>\n",
              "      <td>0</td>\n",
              "      <td>0</td>\n",
              "      <td>0</td>\n",
              "    </tr>\n",
              "    <tr>\n",
              "      <th>1</th>\n",
              "      <td>0</td>\n",
              "      <td>0</td>\n",
              "      <td>0</td>\n",
              "      <td>0</td>\n",
              "      <td>0</td>\n",
              "      <td>0</td>\n",
              "      <td>0</td>\n",
              "      <td>0</td>\n",
              "      <td>0</td>\n",
              "      <td>0</td>\n",
              "      <td>...</td>\n",
              "      <td>0</td>\n",
              "      <td>0</td>\n",
              "      <td>0</td>\n",
              "      <td>0</td>\n",
              "      <td>0</td>\n",
              "      <td>0</td>\n",
              "      <td>0</td>\n",
              "      <td>0</td>\n",
              "      <td>0</td>\n",
              "      <td>0</td>\n",
              "    </tr>\n",
              "    <tr>\n",
              "      <th>2</th>\n",
              "      <td>0</td>\n",
              "      <td>0</td>\n",
              "      <td>0</td>\n",
              "      <td>0</td>\n",
              "      <td>0</td>\n",
              "      <td>0</td>\n",
              "      <td>0</td>\n",
              "      <td>0</td>\n",
              "      <td>0</td>\n",
              "      <td>0</td>\n",
              "      <td>...</td>\n",
              "      <td>0</td>\n",
              "      <td>0</td>\n",
              "      <td>0</td>\n",
              "      <td>0</td>\n",
              "      <td>0</td>\n",
              "      <td>0</td>\n",
              "      <td>0</td>\n",
              "      <td>0</td>\n",
              "      <td>0</td>\n",
              "      <td>0</td>\n",
              "    </tr>\n",
              "    <tr>\n",
              "      <th>3</th>\n",
              "      <td>0</td>\n",
              "      <td>0</td>\n",
              "      <td>0</td>\n",
              "      <td>0</td>\n",
              "      <td>0</td>\n",
              "      <td>0</td>\n",
              "      <td>0</td>\n",
              "      <td>0</td>\n",
              "      <td>0</td>\n",
              "      <td>0</td>\n",
              "      <td>...</td>\n",
              "      <td>0</td>\n",
              "      <td>0</td>\n",
              "      <td>0</td>\n",
              "      <td>0</td>\n",
              "      <td>0</td>\n",
              "      <td>0</td>\n",
              "      <td>0</td>\n",
              "      <td>0</td>\n",
              "      <td>0</td>\n",
              "      <td>0</td>\n",
              "    </tr>\n",
              "    <tr>\n",
              "      <th>4</th>\n",
              "      <td>0</td>\n",
              "      <td>0</td>\n",
              "      <td>0</td>\n",
              "      <td>0</td>\n",
              "      <td>0</td>\n",
              "      <td>0</td>\n",
              "      <td>0</td>\n",
              "      <td>0</td>\n",
              "      <td>0</td>\n",
              "      <td>0</td>\n",
              "      <td>...</td>\n",
              "      <td>0</td>\n",
              "      <td>0</td>\n",
              "      <td>0</td>\n",
              "      <td>1</td>\n",
              "      <td>0</td>\n",
              "      <td>0</td>\n",
              "      <td>0</td>\n",
              "      <td>0</td>\n",
              "      <td>0</td>\n",
              "      <td>0</td>\n",
              "    </tr>\n",
              "    <tr>\n",
              "      <th>...</th>\n",
              "      <td>...</td>\n",
              "      <td>...</td>\n",
              "      <td>...</td>\n",
              "      <td>...</td>\n",
              "      <td>...</td>\n",
              "      <td>...</td>\n",
              "      <td>...</td>\n",
              "      <td>...</td>\n",
              "      <td>...</td>\n",
              "      <td>...</td>\n",
              "      <td>...</td>\n",
              "      <td>...</td>\n",
              "      <td>...</td>\n",
              "      <td>...</td>\n",
              "      <td>...</td>\n",
              "      <td>...</td>\n",
              "      <td>...</td>\n",
              "      <td>...</td>\n",
              "      <td>...</td>\n",
              "      <td>...</td>\n",
              "      <td>...</td>\n",
              "    </tr>\n",
              "    <tr>\n",
              "      <th>233594</th>\n",
              "      <td>0</td>\n",
              "      <td>0</td>\n",
              "      <td>0</td>\n",
              "      <td>0</td>\n",
              "      <td>0</td>\n",
              "      <td>0</td>\n",
              "      <td>0</td>\n",
              "      <td>0</td>\n",
              "      <td>0</td>\n",
              "      <td>0</td>\n",
              "      <td>...</td>\n",
              "      <td>0</td>\n",
              "      <td>0</td>\n",
              "      <td>0</td>\n",
              "      <td>0</td>\n",
              "      <td>0</td>\n",
              "      <td>0</td>\n",
              "      <td>0</td>\n",
              "      <td>0</td>\n",
              "      <td>0</td>\n",
              "      <td>0</td>\n",
              "    </tr>\n",
              "    <tr>\n",
              "      <th>233595</th>\n",
              "      <td>0</td>\n",
              "      <td>0</td>\n",
              "      <td>0</td>\n",
              "      <td>0</td>\n",
              "      <td>0</td>\n",
              "      <td>0</td>\n",
              "      <td>0</td>\n",
              "      <td>0</td>\n",
              "      <td>0</td>\n",
              "      <td>0</td>\n",
              "      <td>...</td>\n",
              "      <td>0</td>\n",
              "      <td>0</td>\n",
              "      <td>0</td>\n",
              "      <td>0</td>\n",
              "      <td>0</td>\n",
              "      <td>0</td>\n",
              "      <td>0</td>\n",
              "      <td>0</td>\n",
              "      <td>0</td>\n",
              "      <td>0</td>\n",
              "    </tr>\n",
              "    <tr>\n",
              "      <th>233596</th>\n",
              "      <td>0</td>\n",
              "      <td>0</td>\n",
              "      <td>0</td>\n",
              "      <td>0</td>\n",
              "      <td>0</td>\n",
              "      <td>0</td>\n",
              "      <td>0</td>\n",
              "      <td>0</td>\n",
              "      <td>0</td>\n",
              "      <td>0</td>\n",
              "      <td>...</td>\n",
              "      <td>0</td>\n",
              "      <td>0</td>\n",
              "      <td>0</td>\n",
              "      <td>1</td>\n",
              "      <td>0</td>\n",
              "      <td>0</td>\n",
              "      <td>0</td>\n",
              "      <td>0</td>\n",
              "      <td>0</td>\n",
              "      <td>0</td>\n",
              "    </tr>\n",
              "    <tr>\n",
              "      <th>233597</th>\n",
              "      <td>0</td>\n",
              "      <td>0</td>\n",
              "      <td>0</td>\n",
              "      <td>0</td>\n",
              "      <td>0</td>\n",
              "      <td>0</td>\n",
              "      <td>0</td>\n",
              "      <td>0</td>\n",
              "      <td>0</td>\n",
              "      <td>0</td>\n",
              "      <td>...</td>\n",
              "      <td>0</td>\n",
              "      <td>0</td>\n",
              "      <td>0</td>\n",
              "      <td>0</td>\n",
              "      <td>0</td>\n",
              "      <td>0</td>\n",
              "      <td>0</td>\n",
              "      <td>0</td>\n",
              "      <td>0</td>\n",
              "      <td>0</td>\n",
              "    </tr>\n",
              "    <tr>\n",
              "      <th>233598</th>\n",
              "      <td>0</td>\n",
              "      <td>0</td>\n",
              "      <td>0</td>\n",
              "      <td>0</td>\n",
              "      <td>0</td>\n",
              "      <td>0</td>\n",
              "      <td>0</td>\n",
              "      <td>0</td>\n",
              "      <td>0</td>\n",
              "      <td>0</td>\n",
              "      <td>...</td>\n",
              "      <td>0</td>\n",
              "      <td>0</td>\n",
              "      <td>0</td>\n",
              "      <td>0</td>\n",
              "      <td>0</td>\n",
              "      <td>0</td>\n",
              "      <td>0</td>\n",
              "      <td>0</td>\n",
              "      <td>0</td>\n",
              "      <td>0</td>\n",
              "    </tr>\n",
              "  </tbody>\n",
              "</table>\n",
              "<p>233599 rows × 3583 columns</p>\n",
              "</div>\n",
              "      <button class=\"colab-df-convert\" onclick=\"convertToInteractive('df-0c6c7cae-b5f9-45d8-b5cc-38d0ece63d90')\"\n",
              "              title=\"Convert this dataframe to an interactive table.\"\n",
              "              style=\"display:none;\">\n",
              "        \n",
              "  <svg xmlns=\"http://www.w3.org/2000/svg\" height=\"24px\"viewBox=\"0 0 24 24\"\n",
              "       width=\"24px\">\n",
              "    <path d=\"M0 0h24v24H0V0z\" fill=\"none\"/>\n",
              "    <path d=\"M18.56 5.44l.94 2.06.94-2.06 2.06-.94-2.06-.94-.94-2.06-.94 2.06-2.06.94zm-11 1L8.5 8.5l.94-2.06 2.06-.94-2.06-.94L8.5 2.5l-.94 2.06-2.06.94zm10 10l.94 2.06.94-2.06 2.06-.94-2.06-.94-.94-2.06-.94 2.06-2.06.94z\"/><path d=\"M17.41 7.96l-1.37-1.37c-.4-.4-.92-.59-1.43-.59-.52 0-1.04.2-1.43.59L10.3 9.45l-7.72 7.72c-.78.78-.78 2.05 0 2.83L4 21.41c.39.39.9.59 1.41.59.51 0 1.02-.2 1.41-.59l7.78-7.78 2.81-2.81c.8-.78.8-2.07 0-2.86zM5.41 20L4 18.59l7.72-7.72 1.47 1.35L5.41 20z\"/>\n",
              "  </svg>\n",
              "      </button>\n",
              "      \n",
              "  <style>\n",
              "    .colab-df-container {\n",
              "      display:flex;\n",
              "      flex-wrap:wrap;\n",
              "      gap: 12px;\n",
              "    }\n",
              "\n",
              "    .colab-df-convert {\n",
              "      background-color: #E8F0FE;\n",
              "      border: none;\n",
              "      border-radius: 50%;\n",
              "      cursor: pointer;\n",
              "      display: none;\n",
              "      fill: #1967D2;\n",
              "      height: 32px;\n",
              "      padding: 0 0 0 0;\n",
              "      width: 32px;\n",
              "    }\n",
              "\n",
              "    .colab-df-convert:hover {\n",
              "      background-color: #E2EBFA;\n",
              "      box-shadow: 0px 1px 2px rgba(60, 64, 67, 0.3), 0px 1px 3px 1px rgba(60, 64, 67, 0.15);\n",
              "      fill: #174EA6;\n",
              "    }\n",
              "\n",
              "    [theme=dark] .colab-df-convert {\n",
              "      background-color: #3B4455;\n",
              "      fill: #D2E3FC;\n",
              "    }\n",
              "\n",
              "    [theme=dark] .colab-df-convert:hover {\n",
              "      background-color: #434B5C;\n",
              "      box-shadow: 0px 1px 3px 1px rgba(0, 0, 0, 0.15);\n",
              "      filter: drop-shadow(0px 1px 2px rgba(0, 0, 0, 0.3));\n",
              "      fill: #FFFFFF;\n",
              "    }\n",
              "  </style>\n",
              "\n",
              "      <script>\n",
              "        const buttonEl =\n",
              "          document.querySelector('#df-0c6c7cae-b5f9-45d8-b5cc-38d0ece63d90 button.colab-df-convert');\n",
              "        buttonEl.style.display =\n",
              "          google.colab.kernel.accessAllowed ? 'block' : 'none';\n",
              "\n",
              "        async function convertToInteractive(key) {\n",
              "          const element = document.querySelector('#df-0c6c7cae-b5f9-45d8-b5cc-38d0ece63d90');\n",
              "          const dataTable =\n",
              "            await google.colab.kernel.invokeFunction('convertToInteractive',\n",
              "                                                     [key], {});\n",
              "          if (!dataTable) return;\n",
              "\n",
              "          const docLinkHtml = 'Like what you see? Visit the ' +\n",
              "            '<a target=\"_blank\" href=https://colab.research.google.com/notebooks/data_table.ipynb>data table notebook</a>'\n",
              "            + ' to learn more about interactive tables.';\n",
              "          element.innerHTML = '';\n",
              "          dataTable['output_type'] = 'display_data';\n",
              "          await google.colab.output.renderOutput(dataTable, element);\n",
              "          const docLink = document.createElement('div');\n",
              "          docLink.innerHTML = docLinkHtml;\n",
              "          element.appendChild(docLink);\n",
              "        }\n",
              "      </script>\n",
              "    </div>\n",
              "  </div>\n",
              "  "
            ]
          },
          "metadata": {},
          "execution_count": 12
        }
      ]
    },
    {
      "cell_type": "code",
      "source": [
        "#Creamos vectores con todos los nombres de las columnas dummy de cada una de las variables categoricas\n",
        "\n",
        "dummy_df_OC = pd.get_dummies(data,columns=['Occupation'])\n",
        "dummy_df_OC_new = list(dummy_df_OC.filter(like='Occupation_').columns)\n",
        "\n",
        "dummy_df_C = pd.get_dummies(data,columns=['City_Category'])\n",
        "dummy_df_C_new = list(dummy_df_C.filter(like='City_Category_').columns)\n",
        "\n",
        "dummy_df_S = pd.get_dummies(data,columns=['Stay_In_Current_City_Years'])\n",
        "dummy_df_S_new = list(dummy_df_S.filter(like='Stay_In_Current_City_Years_').columns)\n",
        "\n",
        "dummy_df_MS = pd.get_dummies(data,columns=['Marital_Status'])\n",
        "dummy_df_MS_new = list(dummy_df_MS.filter(like='Marital_Status_').columns)\n",
        "\n",
        "dummy_df_PC1 = pd.get_dummies(data,columns=['Product_Category_1'])\n",
        "dummy_df_PC1_new = list(dummy_df_PC1.filter(like='Product_Category_1_').columns)\n",
        "\n",
        "dummy_df_PC2 = pd.get_dummies(data,columns=['Product_Category_2'])\n",
        "dummy_df_PC2_new = list(dummy_df_PC2.filter(like='Product_Category_2_').columns)\n",
        "\n",
        "dummy_df_PC3 = pd.get_dummies(data,columns=['Product_Category_3'])\n",
        "dummy_df_PC3_new = list(dummy_df_PC3.filter(like='Product_Category_3_').columns)"
      ],
      "metadata": {
        "id": "vkZX8NPeIt8z"
      },
      "execution_count": null,
      "outputs": []
    },
    {
      "cell_type": "code",
      "source": [
        "#Creamos un dataframe nuevo para cada categorica agrupando por User_ID y Occupation y sumamos las columnas P_C1,P_C2,P_C3 para cada grupo\n",
        "data_P = data.groupby(['User_ID','Product_ID'])['Product_Category_1'].sum().apply(lambda x: x>0).unstack().fillna(False).reset_index().set_index('User_ID')\n",
        "\n",
        "data_G = data.groupby(['User_ID','Gender'])['Product_Category_1'].sum().apply(lambda x: x>0).unstack().fillna(False).reset_index().set_index('User_ID')\n",
        "\n",
        "data_A = data.groupby(['User_ID','Age'])['Product_Category_1'].sum().apply(lambda x: x>0).unstack().fillna(False).reset_index().set_index('User_ID')\n",
        "\n",
        "data_OC = data.groupby(['User_ID','Occupation'])['Product_Category_1'].sum().apply(lambda x: x>0).unstack().fillna(False).reset_index().set_index('User_ID')\n",
        "data_OC = data_OC.set_axis(dummy_df_OC_new, axis = 1, inplace = False)\n",
        "\n",
        "data_C = data.groupby(['User_ID','City_Category'])['Product_Category_1'].sum().apply(lambda x: x>0).unstack().fillna(False).reset_index().set_index('User_ID')\n",
        "data_C = data_C.set_axis(dummy_df_C_new, axis = 1, inplace = False)\n",
        "\n",
        "data_S = data.groupby(['User_ID','Stay_In_Current_City_Years'])['Product_Category_1'].sum().apply(lambda x: x>0).unstack().fillna(False).reset_index().set_index('User_ID')\n",
        "data_S = data_S.set_axis(dummy_df_S_new, axis = 1, inplace = False)\n",
        "\n",
        "data_MS = data.groupby(['User_ID','Marital_Status'])['Product_Category_2'].sum().apply(lambda x: x>0).unstack().fillna(False).reset_index().set_index('User_ID')\n",
        "data_MS = data_MS.set_axis(dummy_df_MS_new, axis = 1, inplace = False)\n",
        "\n",
        "data_PC1 = data.groupby(['User_ID','Product_Category_1'])['Product_Category_1'].sum().apply(lambda x: x>0).unstack().fillna(False).reset_index().set_index('User_ID')\n",
        "data_PC1 = data_PC1.set_axis(dummy_df_PC1_new, axis = 1, inplace = False)\n",
        "\n",
        "data_PC2 = data.groupby(['User_ID','Product_Category_2'])['Product_Category_1'].sum().apply(lambda x: x>0).unstack().fillna(False).reset_index().set_index('User_ID')\n",
        "data_PC2 = data_PC2.set_axis(dummy_df_PC2_new, axis = 1, inplace = False)\n",
        "\n",
        "data_PC3= data.groupby(['User_ID','Product_Category_3'])['Product_Category_1'].sum().apply(lambda x: x>0).unstack().fillna(False).reset_index().set_index('User_ID')\n",
        "data_PC3 = data_PC3.set_axis(dummy_df_PC3_new, axis = 1, inplace = False)\n"
      ],
      "metadata": {
        "id": "v1zK4m-EIkBp"
      },
      "execution_count": null,
      "outputs": []
    },
    {
      "cell_type": "code",
      "source": [
        "#Agrupamos todo en un mismo Dataframe\n",
        "data4 = pd.concat([data_P, data_G,data_A,data_OC,data_C,data_S,data_MS,data_PC1,data_PC2,data_PC3], axis = 1)"
      ],
      "metadata": {
        "id": "G50aUzlFR8Gm"
      },
      "execution_count": null,
      "outputs": []
    },
    {
      "cell_type": "code",
      "source": [
        "print(data4.columns)"
      ],
      "metadata": {
        "id": "LVKX_6msaKoV",
        "colab": {
          "base_uri": "https://localhost:8080/"
        },
        "outputId": "a1248ed0-1306-476d-b984-ad786a4b748d"
      },
      "execution_count": null,
      "outputs": [
        {
          "output_type": "stream",
          "name": "stdout",
          "text": [
            "Index(['P00000142', 'P00000242', 'P00000342', 'P00000442', 'P00000542',\n",
            "       'P00000642', 'P00000742', 'P00000842', 'P00000942', 'P00001042',\n",
            "       ...\n",
            "       'Product_Category_3_9.0', 'Product_Category_3_10.0',\n",
            "       'Product_Category_3_11.0', 'Product_Category_3_12.0',\n",
            "       'Product_Category_3_13.0', 'Product_Category_3_14.0',\n",
            "       'Product_Category_3_15.0', 'Product_Category_3_16.0',\n",
            "       'Product_Category_3_17.0', 'Product_Category_3_18.0'],\n",
            "      dtype='object', length=3583)\n"
          ]
        }
      ]
    },
    {
      "cell_type": "markdown",
      "source": [
        "Colocamos los datos de la forma indicada para poder calcular las frecuencias de estos más adelante"
      ],
      "metadata": {
        "id": "1yTwMGy-Sf6I"
      }
    },
    {
      "cell_type": "markdown",
      "source": [
        "# 1) Itemsets frecuentes para k=1"
      ],
      "metadata": {
        "id": "JzW5LCNebLOx"
      }
    },
    {
      "cell_type": "markdown",
      "source": [
        "Para hallar esto necesitamos calcular el soporte y las frecuencias de estos itemsets"
      ],
      "metadata": {
        "id": "HMaRpY_mhweb"
      }
    },
    {
      "cell_type": "markdown",
      "source": [
        "IR VARIANDO EL MIN_SUPPORT HASTA QUE SALE UN NÚMERO DE REGLAS RAZONABLE"
      ],
      "metadata": {
        "id": "zmSCb6P4z0NR"
      }
    },
    {
      "cell_type": "code",
      "source": [
        "from mlxtend.frequent_patterns import apriori, association_rules\n",
        "\n",
        "frequent_itemsets = apriori(data4, min_support=0.5, use_colnames=True)\n",
        "frequent_itemsets_k1 =frequent_itemsets[frequent_itemsets['itemsets'].apply(lambda x: len(x) == 1)]\n",
        "frequent_itemsets_k1_sort = frequent_itemsets_k1.sort_values(by=['support'], ascending=False)\n",
        "\n",
        "frequent=frequent_itemsets_k1_sort.support*len(data4)\n",
        "frequent_itemsets_k1_sort['frecuencia'] =frequent\n",
        "frequent_itemsets_k1_sort"
      ],
      "metadata": {
        "id": "k3-bJvTBw4le",
        "colab": {
          "base_uri": "https://localhost:8080/",
          "height": 770
        },
        "outputId": "745a36eb-2001-4a50-b090-087dfb6dc24a"
      },
      "execution_count": null,
      "outputs": [
        {
          "output_type": "execute_result",
          "data": {
            "text/plain": [
              "     support                   itemsets  frecuencia\n",
              "17  0.997963   (Product_Category_3_0.0)      5879.0\n",
              "8   0.944152   (Product_Category_2_0.0)      5562.0\n",
              "5   0.913597     (Product_Category_1_5)      5382.0\n",
              "3   0.910711     (Product_Category_1_1)      5365.0\n",
              "7   0.873196     (Product_Category_1_8)      5144.0\n",
              "13  0.830929   (Product_Category_2_8.0)      4895.0\n",
              "14  0.757936  (Product_Category_2_14.0)      4465.0\n",
              "9   0.729588   (Product_Category_2_2.0)      4298.0\n",
              "16  0.723986  (Product_Category_2_16.0)      4265.0\n",
              "0   0.717196                        (M)      4225.0\n",
              "21  0.670175  (Product_Category_3_16.0)      3948.0\n",
              "15  0.656765  (Product_Category_2_15.0)      3869.0\n",
              "11  0.592938   (Product_Category_2_5.0)      3493.0\n",
              "2   0.578170         (Marital_Status_0)      3406.0\n",
              "20  0.565099  (Product_Category_3_15.0)      3329.0\n",
              "22  0.556782  (Product_Category_3_17.0)      3280.0\n",
              "4   0.543711     (Product_Category_1_2)      3203.0\n",
              "19  0.538618  (Product_Category_3_14.0)      3173.0\n",
              "18  0.533865   (Product_Category_3_5.0)      3145.0\n",
              "1   0.532847          (City_Category_C)      3139.0\n",
              "6   0.529961     (Product_Category_1_6)      3122.0\n",
              "10  0.527075   (Product_Category_2_4.0)      3105.0\n",
              "12  0.516890   (Product_Category_2_6.0)      3045.0"
            ],
            "text/html": [
              "\n",
              "  <div id=\"df-9b4b20ea-3e15-4e37-bac1-59e38d887cff\">\n",
              "    <div class=\"colab-df-container\">\n",
              "      <div>\n",
              "<style scoped>\n",
              "    .dataframe tbody tr th:only-of-type {\n",
              "        vertical-align: middle;\n",
              "    }\n",
              "\n",
              "    .dataframe tbody tr th {\n",
              "        vertical-align: top;\n",
              "    }\n",
              "\n",
              "    .dataframe thead th {\n",
              "        text-align: right;\n",
              "    }\n",
              "</style>\n",
              "<table border=\"1\" class=\"dataframe\">\n",
              "  <thead>\n",
              "    <tr style=\"text-align: right;\">\n",
              "      <th></th>\n",
              "      <th>support</th>\n",
              "      <th>itemsets</th>\n",
              "      <th>frecuencia</th>\n",
              "    </tr>\n",
              "  </thead>\n",
              "  <tbody>\n",
              "    <tr>\n",
              "      <th>17</th>\n",
              "      <td>0.997963</td>\n",
              "      <td>(Product_Category_3_0.0)</td>\n",
              "      <td>5879.0</td>\n",
              "    </tr>\n",
              "    <tr>\n",
              "      <th>8</th>\n",
              "      <td>0.944152</td>\n",
              "      <td>(Product_Category_2_0.0)</td>\n",
              "      <td>5562.0</td>\n",
              "    </tr>\n",
              "    <tr>\n",
              "      <th>5</th>\n",
              "      <td>0.913597</td>\n",
              "      <td>(Product_Category_1_5)</td>\n",
              "      <td>5382.0</td>\n",
              "    </tr>\n",
              "    <tr>\n",
              "      <th>3</th>\n",
              "      <td>0.910711</td>\n",
              "      <td>(Product_Category_1_1)</td>\n",
              "      <td>5365.0</td>\n",
              "    </tr>\n",
              "    <tr>\n",
              "      <th>7</th>\n",
              "      <td>0.873196</td>\n",
              "      <td>(Product_Category_1_8)</td>\n",
              "      <td>5144.0</td>\n",
              "    </tr>\n",
              "    <tr>\n",
              "      <th>13</th>\n",
              "      <td>0.830929</td>\n",
              "      <td>(Product_Category_2_8.0)</td>\n",
              "      <td>4895.0</td>\n",
              "    </tr>\n",
              "    <tr>\n",
              "      <th>14</th>\n",
              "      <td>0.757936</td>\n",
              "      <td>(Product_Category_2_14.0)</td>\n",
              "      <td>4465.0</td>\n",
              "    </tr>\n",
              "    <tr>\n",
              "      <th>9</th>\n",
              "      <td>0.729588</td>\n",
              "      <td>(Product_Category_2_2.0)</td>\n",
              "      <td>4298.0</td>\n",
              "    </tr>\n",
              "    <tr>\n",
              "      <th>16</th>\n",
              "      <td>0.723986</td>\n",
              "      <td>(Product_Category_2_16.0)</td>\n",
              "      <td>4265.0</td>\n",
              "    </tr>\n",
              "    <tr>\n",
              "      <th>0</th>\n",
              "      <td>0.717196</td>\n",
              "      <td>(M)</td>\n",
              "      <td>4225.0</td>\n",
              "    </tr>\n",
              "    <tr>\n",
              "      <th>21</th>\n",
              "      <td>0.670175</td>\n",
              "      <td>(Product_Category_3_16.0)</td>\n",
              "      <td>3948.0</td>\n",
              "    </tr>\n",
              "    <tr>\n",
              "      <th>15</th>\n",
              "      <td>0.656765</td>\n",
              "      <td>(Product_Category_2_15.0)</td>\n",
              "      <td>3869.0</td>\n",
              "    </tr>\n",
              "    <tr>\n",
              "      <th>11</th>\n",
              "      <td>0.592938</td>\n",
              "      <td>(Product_Category_2_5.0)</td>\n",
              "      <td>3493.0</td>\n",
              "    </tr>\n",
              "    <tr>\n",
              "      <th>2</th>\n",
              "      <td>0.578170</td>\n",
              "      <td>(Marital_Status_0)</td>\n",
              "      <td>3406.0</td>\n",
              "    </tr>\n",
              "    <tr>\n",
              "      <th>20</th>\n",
              "      <td>0.565099</td>\n",
              "      <td>(Product_Category_3_15.0)</td>\n",
              "      <td>3329.0</td>\n",
              "    </tr>\n",
              "    <tr>\n",
              "      <th>22</th>\n",
              "      <td>0.556782</td>\n",
              "      <td>(Product_Category_3_17.0)</td>\n",
              "      <td>3280.0</td>\n",
              "    </tr>\n",
              "    <tr>\n",
              "      <th>4</th>\n",
              "      <td>0.543711</td>\n",
              "      <td>(Product_Category_1_2)</td>\n",
              "      <td>3203.0</td>\n",
              "    </tr>\n",
              "    <tr>\n",
              "      <th>19</th>\n",
              "      <td>0.538618</td>\n",
              "      <td>(Product_Category_3_14.0)</td>\n",
              "      <td>3173.0</td>\n",
              "    </tr>\n",
              "    <tr>\n",
              "      <th>18</th>\n",
              "      <td>0.533865</td>\n",
              "      <td>(Product_Category_3_5.0)</td>\n",
              "      <td>3145.0</td>\n",
              "    </tr>\n",
              "    <tr>\n",
              "      <th>1</th>\n",
              "      <td>0.532847</td>\n",
              "      <td>(City_Category_C)</td>\n",
              "      <td>3139.0</td>\n",
              "    </tr>\n",
              "    <tr>\n",
              "      <th>6</th>\n",
              "      <td>0.529961</td>\n",
              "      <td>(Product_Category_1_6)</td>\n",
              "      <td>3122.0</td>\n",
              "    </tr>\n",
              "    <tr>\n",
              "      <th>10</th>\n",
              "      <td>0.527075</td>\n",
              "      <td>(Product_Category_2_4.0)</td>\n",
              "      <td>3105.0</td>\n",
              "    </tr>\n",
              "    <tr>\n",
              "      <th>12</th>\n",
              "      <td>0.516890</td>\n",
              "      <td>(Product_Category_2_6.0)</td>\n",
              "      <td>3045.0</td>\n",
              "    </tr>\n",
              "  </tbody>\n",
              "</table>\n",
              "</div>\n",
              "      <button class=\"colab-df-convert\" onclick=\"convertToInteractive('df-9b4b20ea-3e15-4e37-bac1-59e38d887cff')\"\n",
              "              title=\"Convert this dataframe to an interactive table.\"\n",
              "              style=\"display:none;\">\n",
              "        \n",
              "  <svg xmlns=\"http://www.w3.org/2000/svg\" height=\"24px\"viewBox=\"0 0 24 24\"\n",
              "       width=\"24px\">\n",
              "    <path d=\"M0 0h24v24H0V0z\" fill=\"none\"/>\n",
              "    <path d=\"M18.56 5.44l.94 2.06.94-2.06 2.06-.94-2.06-.94-.94-2.06-.94 2.06-2.06.94zm-11 1L8.5 8.5l.94-2.06 2.06-.94-2.06-.94L8.5 2.5l-.94 2.06-2.06.94zm10 10l.94 2.06.94-2.06 2.06-.94-2.06-.94-.94-2.06-.94 2.06-2.06.94z\"/><path d=\"M17.41 7.96l-1.37-1.37c-.4-.4-.92-.59-1.43-.59-.52 0-1.04.2-1.43.59L10.3 9.45l-7.72 7.72c-.78.78-.78 2.05 0 2.83L4 21.41c.39.39.9.59 1.41.59.51 0 1.02-.2 1.41-.59l7.78-7.78 2.81-2.81c.8-.78.8-2.07 0-2.86zM5.41 20L4 18.59l7.72-7.72 1.47 1.35L5.41 20z\"/>\n",
              "  </svg>\n",
              "      </button>\n",
              "      \n",
              "  <style>\n",
              "    .colab-df-container {\n",
              "      display:flex;\n",
              "      flex-wrap:wrap;\n",
              "      gap: 12px;\n",
              "    }\n",
              "\n",
              "    .colab-df-convert {\n",
              "      background-color: #E8F0FE;\n",
              "      border: none;\n",
              "      border-radius: 50%;\n",
              "      cursor: pointer;\n",
              "      display: none;\n",
              "      fill: #1967D2;\n",
              "      height: 32px;\n",
              "      padding: 0 0 0 0;\n",
              "      width: 32px;\n",
              "    }\n",
              "\n",
              "    .colab-df-convert:hover {\n",
              "      background-color: #E2EBFA;\n",
              "      box-shadow: 0px 1px 2px rgba(60, 64, 67, 0.3), 0px 1px 3px 1px rgba(60, 64, 67, 0.15);\n",
              "      fill: #174EA6;\n",
              "    }\n",
              "\n",
              "    [theme=dark] .colab-df-convert {\n",
              "      background-color: #3B4455;\n",
              "      fill: #D2E3FC;\n",
              "    }\n",
              "\n",
              "    [theme=dark] .colab-df-convert:hover {\n",
              "      background-color: #434B5C;\n",
              "      box-shadow: 0px 1px 3px 1px rgba(0, 0, 0, 0.15);\n",
              "      filter: drop-shadow(0px 1px 2px rgba(0, 0, 0, 0.3));\n",
              "      fill: #FFFFFF;\n",
              "    }\n",
              "  </style>\n",
              "\n",
              "      <script>\n",
              "        const buttonEl =\n",
              "          document.querySelector('#df-9b4b20ea-3e15-4e37-bac1-59e38d887cff button.colab-df-convert');\n",
              "        buttonEl.style.display =\n",
              "          google.colab.kernel.accessAllowed ? 'block' : 'none';\n",
              "\n",
              "        async function convertToInteractive(key) {\n",
              "          const element = document.querySelector('#df-9b4b20ea-3e15-4e37-bac1-59e38d887cff');\n",
              "          const dataTable =\n",
              "            await google.colab.kernel.invokeFunction('convertToInteractive',\n",
              "                                                     [key], {});\n",
              "          if (!dataTable) return;\n",
              "\n",
              "          const docLinkHtml = 'Like what you see? Visit the ' +\n",
              "            '<a target=\"_blank\" href=https://colab.research.google.com/notebooks/data_table.ipynb>data table notebook</a>'\n",
              "            + ' to learn more about interactive tables.';\n",
              "          element.innerHTML = '';\n",
              "          dataTable['output_type'] = 'display_data';\n",
              "          await google.colab.output.renderOutput(dataTable, element);\n",
              "          const docLink = document.createElement('div');\n",
              "          docLink.innerHTML = docLinkHtml;\n",
              "          element.appendChild(docLink);\n",
              "        }\n",
              "      </script>\n",
              "    </div>\n",
              "  </div>\n",
              "  "
            ]
          },
          "metadata": {},
          "execution_count": 29
        }
      ]
    },
    {
      "cell_type": "markdown",
      "source": [
        "COMPRUEBAMOS QUE LOS VALORES SON LOS CORRESTOS\n",
        "\n",
        "SupportMale=len(Gender)/Male\n",
        "\n"
      ],
      "metadata": {
        "id": "RqbAGAxiZiz5"
      }
    },
    {
      "cell_type": "code",
      "source": [
        "SupportMale=sum(data4.M==True)/len(data4.M+data4.F)\n",
        "print(SupportMale)"
      ],
      "metadata": {
        "id": "day_BbcWZUYb",
        "colab": {
          "base_uri": "https://localhost:8080/"
        },
        "outputId": "3e5fbc3c-5c65-4dae-d1cf-ca7d45f0c359"
      },
      "execution_count": null,
      "outputs": [
        {
          "output_type": "stream",
          "name": "stdout",
          "text": [
            "0.7171957222882362\n"
          ]
        }
      ]
    },
    {
      "cell_type": "markdown",
      "source": [
        "Vamos que es correcto"
      ],
      "metadata": {
        "id": "B4MO_sVuJ594"
      }
    },
    {
      "cell_type": "markdown",
      "source": [
        "# 2) Itemsets frecuentes para k≥2."
      ],
      "metadata": {
        "id": "yFmoHTL6atkl"
      }
    },
    {
      "cell_type": "markdown",
      "source": [
        "## a. Mostrar los itemset frecuentes candidatos y su soporte."
      ],
      "metadata": {
        "id": "v_FGqWznirUq"
      }
    },
    {
      "cell_type": "code",
      "source": [
        "frequent_itemsets_k2 =frequent_itemsets[frequent_itemsets['itemsets'].apply(lambda x: len(x) == 2)]\n",
        "frequent_itemsets_k2_sort = frequent_itemsets_k2.sort_values(by=['support'], ascending=False)\n",
        "frequent=frequent_itemsets_k2_sort.support*len(data4)\n",
        "frequent_itemsets_k2_sort['frecuenciak2'] =frequent\n",
        "frequent_itemsets_k2_sort"
      ],
      "metadata": {
        "id": "_aW5alB8zedh",
        "colab": {
          "base_uri": "https://localhost:8080/",
          "height": 423
        },
        "outputId": "453660c5-4769-413a-b4aa-2d2a17955781"
      },
      "execution_count": null,
      "outputs": [
        {
          "output_type": "execute_result",
          "data": {
            "text/plain": [
              "      support                                           itemsets  frecuenciak2\n",
              "102  0.944152   (Product_Category_3_0.0, Product_Category_2_0.0)        5562.0\n",
              "73   0.913258     (Product_Category_3_0.0, Product_Category_1_5)        5380.0\n",
              "53   0.909014     (Product_Category_3_0.0, Product_Category_1_1)        5355.0\n",
              "65   0.881854     (Product_Category_2_0.0, Product_Category_1_5)        5195.0\n",
              "90   0.873196     (Product_Category_3_0.0, Product_Category_1_8)        5144.0\n",
              "..        ...                                                ...           ...\n",
              "97   0.501782   (Product_Category_2_0.0, Product_Category_2_6.0)        2956.0\n",
              "126  0.501103  (Product_Category_3_15.0, Product_Category_2_8.0)        2952.0\n",
              "60   0.500764       (Product_Category_1_8, Product_Category_1_2)        2950.0\n",
              "108  0.500594   (Product_Category_2_5.0, Product_Category_2_2.0)        2949.0\n",
              "118  0.500255  (Product_Category_2_14.0, Product_Category_2_5.0)        2947.0\n",
              "\n",
              "[120 rows x 3 columns]"
            ],
            "text/html": [
              "\n",
              "  <div id=\"df-c1e2897a-b0a4-4b26-86f8-bef52bb0e197\">\n",
              "    <div class=\"colab-df-container\">\n",
              "      <div>\n",
              "<style scoped>\n",
              "    .dataframe tbody tr th:only-of-type {\n",
              "        vertical-align: middle;\n",
              "    }\n",
              "\n",
              "    .dataframe tbody tr th {\n",
              "        vertical-align: top;\n",
              "    }\n",
              "\n",
              "    .dataframe thead th {\n",
              "        text-align: right;\n",
              "    }\n",
              "</style>\n",
              "<table border=\"1\" class=\"dataframe\">\n",
              "  <thead>\n",
              "    <tr style=\"text-align: right;\">\n",
              "      <th></th>\n",
              "      <th>support</th>\n",
              "      <th>itemsets</th>\n",
              "      <th>frecuenciak2</th>\n",
              "    </tr>\n",
              "  </thead>\n",
              "  <tbody>\n",
              "    <tr>\n",
              "      <th>102</th>\n",
              "      <td>0.944152</td>\n",
              "      <td>(Product_Category_3_0.0, Product_Category_2_0.0)</td>\n",
              "      <td>5562.0</td>\n",
              "    </tr>\n",
              "    <tr>\n",
              "      <th>73</th>\n",
              "      <td>0.913258</td>\n",
              "      <td>(Product_Category_3_0.0, Product_Category_1_5)</td>\n",
              "      <td>5380.0</td>\n",
              "    </tr>\n",
              "    <tr>\n",
              "      <th>53</th>\n",
              "      <td>0.909014</td>\n",
              "      <td>(Product_Category_3_0.0, Product_Category_1_1)</td>\n",
              "      <td>5355.0</td>\n",
              "    </tr>\n",
              "    <tr>\n",
              "      <th>65</th>\n",
              "      <td>0.881854</td>\n",
              "      <td>(Product_Category_2_0.0, Product_Category_1_5)</td>\n",
              "      <td>5195.0</td>\n",
              "    </tr>\n",
              "    <tr>\n",
              "      <th>90</th>\n",
              "      <td>0.873196</td>\n",
              "      <td>(Product_Category_3_0.0, Product_Category_1_8)</td>\n",
              "      <td>5144.0</td>\n",
              "    </tr>\n",
              "    <tr>\n",
              "      <th>...</th>\n",
              "      <td>...</td>\n",
              "      <td>...</td>\n",
              "      <td>...</td>\n",
              "    </tr>\n",
              "    <tr>\n",
              "      <th>97</th>\n",
              "      <td>0.501782</td>\n",
              "      <td>(Product_Category_2_0.0, Product_Category_2_6.0)</td>\n",
              "      <td>2956.0</td>\n",
              "    </tr>\n",
              "    <tr>\n",
              "      <th>126</th>\n",
              "      <td>0.501103</td>\n",
              "      <td>(Product_Category_3_15.0, Product_Category_2_8.0)</td>\n",
              "      <td>2952.0</td>\n",
              "    </tr>\n",
              "    <tr>\n",
              "      <th>60</th>\n",
              "      <td>0.500764</td>\n",
              "      <td>(Product_Category_1_8, Product_Category_1_2)</td>\n",
              "      <td>2950.0</td>\n",
              "    </tr>\n",
              "    <tr>\n",
              "      <th>108</th>\n",
              "      <td>0.500594</td>\n",
              "      <td>(Product_Category_2_5.0, Product_Category_2_2.0)</td>\n",
              "      <td>2949.0</td>\n",
              "    </tr>\n",
              "    <tr>\n",
              "      <th>118</th>\n",
              "      <td>0.500255</td>\n",
              "      <td>(Product_Category_2_14.0, Product_Category_2_5.0)</td>\n",
              "      <td>2947.0</td>\n",
              "    </tr>\n",
              "  </tbody>\n",
              "</table>\n",
              "<p>120 rows × 3 columns</p>\n",
              "</div>\n",
              "      <button class=\"colab-df-convert\" onclick=\"convertToInteractive('df-c1e2897a-b0a4-4b26-86f8-bef52bb0e197')\"\n",
              "              title=\"Convert this dataframe to an interactive table.\"\n",
              "              style=\"display:none;\">\n",
              "        \n",
              "  <svg xmlns=\"http://www.w3.org/2000/svg\" height=\"24px\"viewBox=\"0 0 24 24\"\n",
              "       width=\"24px\">\n",
              "    <path d=\"M0 0h24v24H0V0z\" fill=\"none\"/>\n",
              "    <path d=\"M18.56 5.44l.94 2.06.94-2.06 2.06-.94-2.06-.94-.94-2.06-.94 2.06-2.06.94zm-11 1L8.5 8.5l.94-2.06 2.06-.94-2.06-.94L8.5 2.5l-.94 2.06-2.06.94zm10 10l.94 2.06.94-2.06 2.06-.94-2.06-.94-.94-2.06-.94 2.06-2.06.94z\"/><path d=\"M17.41 7.96l-1.37-1.37c-.4-.4-.92-.59-1.43-.59-.52 0-1.04.2-1.43.59L10.3 9.45l-7.72 7.72c-.78.78-.78 2.05 0 2.83L4 21.41c.39.39.9.59 1.41.59.51 0 1.02-.2 1.41-.59l7.78-7.78 2.81-2.81c.8-.78.8-2.07 0-2.86zM5.41 20L4 18.59l7.72-7.72 1.47 1.35L5.41 20z\"/>\n",
              "  </svg>\n",
              "      </button>\n",
              "      \n",
              "  <style>\n",
              "    .colab-df-container {\n",
              "      display:flex;\n",
              "      flex-wrap:wrap;\n",
              "      gap: 12px;\n",
              "    }\n",
              "\n",
              "    .colab-df-convert {\n",
              "      background-color: #E8F0FE;\n",
              "      border: none;\n",
              "      border-radius: 50%;\n",
              "      cursor: pointer;\n",
              "      display: none;\n",
              "      fill: #1967D2;\n",
              "      height: 32px;\n",
              "      padding: 0 0 0 0;\n",
              "      width: 32px;\n",
              "    }\n",
              "\n",
              "    .colab-df-convert:hover {\n",
              "      background-color: #E2EBFA;\n",
              "      box-shadow: 0px 1px 2px rgba(60, 64, 67, 0.3), 0px 1px 3px 1px rgba(60, 64, 67, 0.15);\n",
              "      fill: #174EA6;\n",
              "    }\n",
              "\n",
              "    [theme=dark] .colab-df-convert {\n",
              "      background-color: #3B4455;\n",
              "      fill: #D2E3FC;\n",
              "    }\n",
              "\n",
              "    [theme=dark] .colab-df-convert:hover {\n",
              "      background-color: #434B5C;\n",
              "      box-shadow: 0px 1px 3px 1px rgba(0, 0, 0, 0.15);\n",
              "      filter: drop-shadow(0px 1px 2px rgba(0, 0, 0, 0.3));\n",
              "      fill: #FFFFFF;\n",
              "    }\n",
              "  </style>\n",
              "\n",
              "      <script>\n",
              "        const buttonEl =\n",
              "          document.querySelector('#df-c1e2897a-b0a4-4b26-86f8-bef52bb0e197 button.colab-df-convert');\n",
              "        buttonEl.style.display =\n",
              "          google.colab.kernel.accessAllowed ? 'block' : 'none';\n",
              "\n",
              "        async function convertToInteractive(key) {\n",
              "          const element = document.querySelector('#df-c1e2897a-b0a4-4b26-86f8-bef52bb0e197');\n",
              "          const dataTable =\n",
              "            await google.colab.kernel.invokeFunction('convertToInteractive',\n",
              "                                                     [key], {});\n",
              "          if (!dataTable) return;\n",
              "\n",
              "          const docLinkHtml = 'Like what you see? Visit the ' +\n",
              "            '<a target=\"_blank\" href=https://colab.research.google.com/notebooks/data_table.ipynb>data table notebook</a>'\n",
              "            + ' to learn more about interactive tables.';\n",
              "          element.innerHTML = '';\n",
              "          dataTable['output_type'] = 'display_data';\n",
              "          await google.colab.output.renderOutput(dataTable, element);\n",
              "          const docLink = document.createElement('div');\n",
              "          docLink.innerHTML = docLinkHtml;\n",
              "          element.appendChild(docLink);\n",
              "        }\n",
              "      </script>\n",
              "    </div>\n",
              "  </div>\n",
              "  "
            ]
          },
          "metadata": {},
          "execution_count": 33
        }
      ]
    },
    {
      "cell_type": "markdown",
      "source": [
        "# 3) Repetir el proceso 2 hasta que no se generen nuevos itemsets frecuentes."
      ],
      "metadata": {
        "id": "4MrgtzBYai2K"
      }
    },
    {
      "cell_type": "code",
      "source": [
        "frequent_itemsets_k3 = frequent_itemsets[frequent_itemsets['itemsets'].apply(lambda x: len(x) == 3)]\n",
        "frequent_itemsets_k3_sort = frequent_itemsets_k3.sort_values(by=['support'], ascending=False)\n",
        "\n",
        "frequent=frequent_itemsets_k3_sort.support*len(data4)\n",
        "frequent_itemsets_k3_sort['frecuenciak3'] =frequent\n",
        "\n",
        "frequent_itemsets_k3_sort"
      ],
      "metadata": {
        "id": "eTgXS013eVFq",
        "colab": {
          "base_uri": "https://localhost:8080/",
          "height": 423
        },
        "outputId": "67d4e5fa-862a-49d8-8016-87aa55edc632"
      },
      "execution_count": null,
      "outputs": [
        {
          "output_type": "execute_result",
          "data": {
            "text/plain": [
              "      support                                           itemsets  frecuenciak3\n",
              "269  0.881854  (Product_Category_3_0.0, Product_Category_2_0....        5195.0\n",
              "210  0.861653  (Product_Category_3_0.0, Product_Category_2_0....        5076.0\n",
              "312  0.843999  (Product_Category_3_0.0, Product_Category_2_0....        4972.0\n",
              "187  0.835512  (Product_Category_3_0.0, Product_Category_1_5,...        4922.0\n",
              "261  0.814802  (Product_Category_3_0.0, Product_Category_1_8,...        4800.0\n",
              "..        ...                                                ...           ...\n",
              "216  0.500594  (Product_Category_1_1, Product_Category_2_5.0,...        2949.0\n",
              "188  0.500594  (Product_Category_1_5, Product_Category_3_14.0...        2949.0\n",
              "382  0.500255  (Product_Category_3_0.0, Product_Category_2_14...        2947.0\n",
              "370  0.500255  (Product_Category_3_0.0, Product_Category_2_5....        2947.0\n",
              "211  0.500085  (Product_Category_3_5.0, Product_Category_2_0....        2946.0\n",
              "\n",
              "[256 rows x 3 columns]"
            ],
            "text/html": [
              "\n",
              "  <div id=\"df-083282ac-7df1-4ece-ac10-3299eab4bdec\">\n",
              "    <div class=\"colab-df-container\">\n",
              "      <div>\n",
              "<style scoped>\n",
              "    .dataframe tbody tr th:only-of-type {\n",
              "        vertical-align: middle;\n",
              "    }\n",
              "\n",
              "    .dataframe tbody tr th {\n",
              "        vertical-align: top;\n",
              "    }\n",
              "\n",
              "    .dataframe thead th {\n",
              "        text-align: right;\n",
              "    }\n",
              "</style>\n",
              "<table border=\"1\" class=\"dataframe\">\n",
              "  <thead>\n",
              "    <tr style=\"text-align: right;\">\n",
              "      <th></th>\n",
              "      <th>support</th>\n",
              "      <th>itemsets</th>\n",
              "      <th>frecuenciak3</th>\n",
              "    </tr>\n",
              "  </thead>\n",
              "  <tbody>\n",
              "    <tr>\n",
              "      <th>269</th>\n",
              "      <td>0.881854</td>\n",
              "      <td>(Product_Category_3_0.0, Product_Category_2_0....</td>\n",
              "      <td>5195.0</td>\n",
              "    </tr>\n",
              "    <tr>\n",
              "      <th>210</th>\n",
              "      <td>0.861653</td>\n",
              "      <td>(Product_Category_3_0.0, Product_Category_2_0....</td>\n",
              "      <td>5076.0</td>\n",
              "    </tr>\n",
              "    <tr>\n",
              "      <th>312</th>\n",
              "      <td>0.843999</td>\n",
              "      <td>(Product_Category_3_0.0, Product_Category_2_0....</td>\n",
              "      <td>4972.0</td>\n",
              "    </tr>\n",
              "    <tr>\n",
              "      <th>187</th>\n",
              "      <td>0.835512</td>\n",
              "      <td>(Product_Category_3_0.0, Product_Category_1_5,...</td>\n",
              "      <td>4922.0</td>\n",
              "    </tr>\n",
              "    <tr>\n",
              "      <th>261</th>\n",
              "      <td>0.814802</td>\n",
              "      <td>(Product_Category_3_0.0, Product_Category_1_8,...</td>\n",
              "      <td>4800.0</td>\n",
              "    </tr>\n",
              "    <tr>\n",
              "      <th>...</th>\n",
              "      <td>...</td>\n",
              "      <td>...</td>\n",
              "      <td>...</td>\n",
              "    </tr>\n",
              "    <tr>\n",
              "      <th>216</th>\n",
              "      <td>0.500594</td>\n",
              "      <td>(Product_Category_1_1, Product_Category_2_5.0,...</td>\n",
              "      <td>2949.0</td>\n",
              "    </tr>\n",
              "    <tr>\n",
              "      <th>188</th>\n",
              "      <td>0.500594</td>\n",
              "      <td>(Product_Category_1_5, Product_Category_3_14.0...</td>\n",
              "      <td>2949.0</td>\n",
              "    </tr>\n",
              "    <tr>\n",
              "      <th>382</th>\n",
              "      <td>0.500255</td>\n",
              "      <td>(Product_Category_3_0.0, Product_Category_2_14...</td>\n",
              "      <td>2947.0</td>\n",
              "    </tr>\n",
              "    <tr>\n",
              "      <th>370</th>\n",
              "      <td>0.500255</td>\n",
              "      <td>(Product_Category_3_0.0, Product_Category_2_5....</td>\n",
              "      <td>2947.0</td>\n",
              "    </tr>\n",
              "    <tr>\n",
              "      <th>211</th>\n",
              "      <td>0.500085</td>\n",
              "      <td>(Product_Category_3_5.0, Product_Category_2_0....</td>\n",
              "      <td>2946.0</td>\n",
              "    </tr>\n",
              "  </tbody>\n",
              "</table>\n",
              "<p>256 rows × 3 columns</p>\n",
              "</div>\n",
              "      <button class=\"colab-df-convert\" onclick=\"convertToInteractive('df-083282ac-7df1-4ece-ac10-3299eab4bdec')\"\n",
              "              title=\"Convert this dataframe to an interactive table.\"\n",
              "              style=\"display:none;\">\n",
              "        \n",
              "  <svg xmlns=\"http://www.w3.org/2000/svg\" height=\"24px\"viewBox=\"0 0 24 24\"\n",
              "       width=\"24px\">\n",
              "    <path d=\"M0 0h24v24H0V0z\" fill=\"none\"/>\n",
              "    <path d=\"M18.56 5.44l.94 2.06.94-2.06 2.06-.94-2.06-.94-.94-2.06-.94 2.06-2.06.94zm-11 1L8.5 8.5l.94-2.06 2.06-.94-2.06-.94L8.5 2.5l-.94 2.06-2.06.94zm10 10l.94 2.06.94-2.06 2.06-.94-2.06-.94-.94-2.06-.94 2.06-2.06.94z\"/><path d=\"M17.41 7.96l-1.37-1.37c-.4-.4-.92-.59-1.43-.59-.52 0-1.04.2-1.43.59L10.3 9.45l-7.72 7.72c-.78.78-.78 2.05 0 2.83L4 21.41c.39.39.9.59 1.41.59.51 0 1.02-.2 1.41-.59l7.78-7.78 2.81-2.81c.8-.78.8-2.07 0-2.86zM5.41 20L4 18.59l7.72-7.72 1.47 1.35L5.41 20z\"/>\n",
              "  </svg>\n",
              "      </button>\n",
              "      \n",
              "  <style>\n",
              "    .colab-df-container {\n",
              "      display:flex;\n",
              "      flex-wrap:wrap;\n",
              "      gap: 12px;\n",
              "    }\n",
              "\n",
              "    .colab-df-convert {\n",
              "      background-color: #E8F0FE;\n",
              "      border: none;\n",
              "      border-radius: 50%;\n",
              "      cursor: pointer;\n",
              "      display: none;\n",
              "      fill: #1967D2;\n",
              "      height: 32px;\n",
              "      padding: 0 0 0 0;\n",
              "      width: 32px;\n",
              "    }\n",
              "\n",
              "    .colab-df-convert:hover {\n",
              "      background-color: #E2EBFA;\n",
              "      box-shadow: 0px 1px 2px rgba(60, 64, 67, 0.3), 0px 1px 3px 1px rgba(60, 64, 67, 0.15);\n",
              "      fill: #174EA6;\n",
              "    }\n",
              "\n",
              "    [theme=dark] .colab-df-convert {\n",
              "      background-color: #3B4455;\n",
              "      fill: #D2E3FC;\n",
              "    }\n",
              "\n",
              "    [theme=dark] .colab-df-convert:hover {\n",
              "      background-color: #434B5C;\n",
              "      box-shadow: 0px 1px 3px 1px rgba(0, 0, 0, 0.15);\n",
              "      filter: drop-shadow(0px 1px 2px rgba(0, 0, 0, 0.3));\n",
              "      fill: #FFFFFF;\n",
              "    }\n",
              "  </style>\n",
              "\n",
              "      <script>\n",
              "        const buttonEl =\n",
              "          document.querySelector('#df-083282ac-7df1-4ece-ac10-3299eab4bdec button.colab-df-convert');\n",
              "        buttonEl.style.display =\n",
              "          google.colab.kernel.accessAllowed ? 'block' : 'none';\n",
              "\n",
              "        async function convertToInteractive(key) {\n",
              "          const element = document.querySelector('#df-083282ac-7df1-4ece-ac10-3299eab4bdec');\n",
              "          const dataTable =\n",
              "            await google.colab.kernel.invokeFunction('convertToInteractive',\n",
              "                                                     [key], {});\n",
              "          if (!dataTable) return;\n",
              "\n",
              "          const docLinkHtml = 'Like what you see? Visit the ' +\n",
              "            '<a target=\"_blank\" href=https://colab.research.google.com/notebooks/data_table.ipynb>data table notebook</a>'\n",
              "            + ' to learn more about interactive tables.';\n",
              "          element.innerHTML = '';\n",
              "          dataTable['output_type'] = 'display_data';\n",
              "          await google.colab.output.renderOutput(dataTable, element);\n",
              "          const docLink = document.createElement('div');\n",
              "          docLink.innerHTML = docLinkHtml;\n",
              "          element.appendChild(docLink);\n",
              "        }\n",
              "      </script>\n",
              "    </div>\n",
              "  </div>\n",
              "  "
            ]
          },
          "metadata": {},
          "execution_count": 34
        }
      ]
    },
    {
      "cell_type": "code",
      "source": [
        "frequent_itemsets_k4 = frequent_itemsets[frequent_itemsets['itemsets'].apply(lambda x: len(x) == 4)]\n",
        "frequent_itemsets_k4_sort = frequent_itemsets_k4.sort_values(by=['support'], ascending=False)\n",
        "\n",
        "frequent=frequent_itemsets_k4_sort.support*len(data4)\n",
        "frequent_itemsets_k4_sort['frecuenciak3'] =frequent\n",
        "\n",
        "frequent_itemsets_k4_sort.head()"
      ],
      "metadata": {
        "id": "wKwgjR0HXNCX",
        "colab": {
          "base_uri": "https://localhost:8080/",
          "height": 206
        },
        "outputId": "dd6fab51-cebe-40c8-fdf8-fac870389d7d"
      },
      "execution_count": null,
      "outputs": [
        {
          "output_type": "execute_result",
          "data": {
            "text/plain": [
              "      support                                           itemsets  frecuenciak3\n",
              "448  0.808182  (Product_Category_3_0.0, Product_Category_2_0....        4761.0\n",
              "570  0.795451  (Product_Category_3_0.0, Product_Category_2_0....        4686.0\n",
              "484  0.777287  (Product_Category_3_0.0, Product_Category_2_0....        4579.0\n",
              "600  0.763028  (Product_Category_3_0.0, Product_Category_2_0....        4495.0\n",
              "440  0.753183  (Product_Category_3_0.0, Product_Category_1_5,...        4437.0"
            ],
            "text/html": [
              "\n",
              "  <div id=\"df-d1ad0cd2-52b4-4eb9-8097-f41380f61f40\">\n",
              "    <div class=\"colab-df-container\">\n",
              "      <div>\n",
              "<style scoped>\n",
              "    .dataframe tbody tr th:only-of-type {\n",
              "        vertical-align: middle;\n",
              "    }\n",
              "\n",
              "    .dataframe tbody tr th {\n",
              "        vertical-align: top;\n",
              "    }\n",
              "\n",
              "    .dataframe thead th {\n",
              "        text-align: right;\n",
              "    }\n",
              "</style>\n",
              "<table border=\"1\" class=\"dataframe\">\n",
              "  <thead>\n",
              "    <tr style=\"text-align: right;\">\n",
              "      <th></th>\n",
              "      <th>support</th>\n",
              "      <th>itemsets</th>\n",
              "      <th>frecuenciak3</th>\n",
              "    </tr>\n",
              "  </thead>\n",
              "  <tbody>\n",
              "    <tr>\n",
              "      <th>448</th>\n",
              "      <td>0.808182</td>\n",
              "      <td>(Product_Category_3_0.0, Product_Category_2_0....</td>\n",
              "      <td>4761.0</td>\n",
              "    </tr>\n",
              "    <tr>\n",
              "      <th>570</th>\n",
              "      <td>0.795451</td>\n",
              "      <td>(Product_Category_3_0.0, Product_Category_2_0....</td>\n",
              "      <td>4686.0</td>\n",
              "    </tr>\n",
              "    <tr>\n",
              "      <th>484</th>\n",
              "      <td>0.777287</td>\n",
              "      <td>(Product_Category_3_0.0, Product_Category_2_0....</td>\n",
              "      <td>4579.0</td>\n",
              "    </tr>\n",
              "    <tr>\n",
              "      <th>600</th>\n",
              "      <td>0.763028</td>\n",
              "      <td>(Product_Category_3_0.0, Product_Category_2_0....</td>\n",
              "      <td>4495.0</td>\n",
              "    </tr>\n",
              "    <tr>\n",
              "      <th>440</th>\n",
              "      <td>0.753183</td>\n",
              "      <td>(Product_Category_3_0.0, Product_Category_1_5,...</td>\n",
              "      <td>4437.0</td>\n",
              "    </tr>\n",
              "  </tbody>\n",
              "</table>\n",
              "</div>\n",
              "      <button class=\"colab-df-convert\" onclick=\"convertToInteractive('df-d1ad0cd2-52b4-4eb9-8097-f41380f61f40')\"\n",
              "              title=\"Convert this dataframe to an interactive table.\"\n",
              "              style=\"display:none;\">\n",
              "        \n",
              "  <svg xmlns=\"http://www.w3.org/2000/svg\" height=\"24px\"viewBox=\"0 0 24 24\"\n",
              "       width=\"24px\">\n",
              "    <path d=\"M0 0h24v24H0V0z\" fill=\"none\"/>\n",
              "    <path d=\"M18.56 5.44l.94 2.06.94-2.06 2.06-.94-2.06-.94-.94-2.06-.94 2.06-2.06.94zm-11 1L8.5 8.5l.94-2.06 2.06-.94-2.06-.94L8.5 2.5l-.94 2.06-2.06.94zm10 10l.94 2.06.94-2.06 2.06-.94-2.06-.94-.94-2.06-.94 2.06-2.06.94z\"/><path d=\"M17.41 7.96l-1.37-1.37c-.4-.4-.92-.59-1.43-.59-.52 0-1.04.2-1.43.59L10.3 9.45l-7.72 7.72c-.78.78-.78 2.05 0 2.83L4 21.41c.39.39.9.59 1.41.59.51 0 1.02-.2 1.41-.59l7.78-7.78 2.81-2.81c.8-.78.8-2.07 0-2.86zM5.41 20L4 18.59l7.72-7.72 1.47 1.35L5.41 20z\"/>\n",
              "  </svg>\n",
              "      </button>\n",
              "      \n",
              "  <style>\n",
              "    .colab-df-container {\n",
              "      display:flex;\n",
              "      flex-wrap:wrap;\n",
              "      gap: 12px;\n",
              "    }\n",
              "\n",
              "    .colab-df-convert {\n",
              "      background-color: #E8F0FE;\n",
              "      border: none;\n",
              "      border-radius: 50%;\n",
              "      cursor: pointer;\n",
              "      display: none;\n",
              "      fill: #1967D2;\n",
              "      height: 32px;\n",
              "      padding: 0 0 0 0;\n",
              "      width: 32px;\n",
              "    }\n",
              "\n",
              "    .colab-df-convert:hover {\n",
              "      background-color: #E2EBFA;\n",
              "      box-shadow: 0px 1px 2px rgba(60, 64, 67, 0.3), 0px 1px 3px 1px rgba(60, 64, 67, 0.15);\n",
              "      fill: #174EA6;\n",
              "    }\n",
              "\n",
              "    [theme=dark] .colab-df-convert {\n",
              "      background-color: #3B4455;\n",
              "      fill: #D2E3FC;\n",
              "    }\n",
              "\n",
              "    [theme=dark] .colab-df-convert:hover {\n",
              "      background-color: #434B5C;\n",
              "      box-shadow: 0px 1px 3px 1px rgba(0, 0, 0, 0.15);\n",
              "      filter: drop-shadow(0px 1px 2px rgba(0, 0, 0, 0.3));\n",
              "      fill: #FFFFFF;\n",
              "    }\n",
              "  </style>\n",
              "\n",
              "      <script>\n",
              "        const buttonEl =\n",
              "          document.querySelector('#df-d1ad0cd2-52b4-4eb9-8097-f41380f61f40 button.colab-df-convert');\n",
              "        buttonEl.style.display =\n",
              "          google.colab.kernel.accessAllowed ? 'block' : 'none';\n",
              "\n",
              "        async function convertToInteractive(key) {\n",
              "          const element = document.querySelector('#df-d1ad0cd2-52b4-4eb9-8097-f41380f61f40');\n",
              "          const dataTable =\n",
              "            await google.colab.kernel.invokeFunction('convertToInteractive',\n",
              "                                                     [key], {});\n",
              "          if (!dataTable) return;\n",
              "\n",
              "          const docLinkHtml = 'Like what you see? Visit the ' +\n",
              "            '<a target=\"_blank\" href=https://colab.research.google.com/notebooks/data_table.ipynb>data table notebook</a>'\n",
              "            + ' to learn more about interactive tables.';\n",
              "          element.innerHTML = '';\n",
              "          dataTable['output_type'] = 'display_data';\n",
              "          await google.colab.output.renderOutput(dataTable, element);\n",
              "          const docLink = document.createElement('div');\n",
              "          docLink.innerHTML = docLinkHtml;\n",
              "          element.appendChild(docLink);\n",
              "        }\n",
              "      </script>\n",
              "    </div>\n",
              "  </div>\n",
              "  "
            ]
          },
          "metadata": {},
          "execution_count": 35
        }
      ]
    },
    {
      "cell_type": "markdown",
      "source": [
        "Observamos que para K=4 no hay mas itemsets que cumplan el requisito de tener un soporte minimo del 20%. "
      ],
      "metadata": {
        "id": "VYx37-eGu7vS"
      }
    },
    {
      "cell_type": "markdown",
      "source": [
        "# 4) Mostrar todas las posibles reglas con la confianza de cada una de ellas."
      ],
      "metadata": {
        "id": "DtDT0ePvRMG9"
      }
    },
    {
      "cell_type": "code",
      "source": [
        "rules = association_rules(frequent_itemsets, metric='confidence',  min_threshold=0)\n",
        "rules"
      ],
      "metadata": {
        "id": "7lRmQhLZgKfc",
        "colab": {
          "base_uri": "https://localhost:8080/",
          "height": 571
        },
        "outputId": "721c9519-c046-4bf4-83e2-4ae388276f23"
      },
      "execution_count": null,
      "outputs": [
        {
          "output_type": "execute_result",
          "data": {
            "text/plain": [
              "                     antecedents  \\\n",
              "0                            (M)   \n",
              "1         (Product_Category_1_1)   \n",
              "2                            (M)   \n",
              "3         (Product_Category_1_5)   \n",
              "4                            (M)   \n",
              "...                          ...   \n",
              "19479  (Product_Category_2_16.0)   \n",
              "19480  (Product_Category_2_14.0)   \n",
              "19481   (Product_Category_2_8.0)   \n",
              "19482   (Product_Category_2_0.0)   \n",
              "19483     (Product_Category_1_8)   \n",
              "\n",
              "                                             consequents  antecedent support  \\\n",
              "0                                 (Product_Category_1_1)            0.717196   \n",
              "1                                                    (M)            0.910711   \n",
              "2                                 (Product_Category_1_5)            0.717196   \n",
              "3                                                    (M)            0.913597   \n",
              "4                                 (Product_Category_1_8)            0.717196   \n",
              "...                                                  ...                 ...   \n",
              "19479  (Product_Category_3_0.0, Product_Category_1_5,...            0.723986   \n",
              "19480  (Product_Category_3_0.0, Product_Category_1_5,...            0.757936   \n",
              "19481  (Product_Category_3_0.0, Product_Category_1_5,...            0.830929   \n",
              "19482  (Product_Category_3_0.0, Product_Category_1_5,...            0.944152   \n",
              "19483  (Product_Category_3_0.0, Product_Category_1_5,...            0.873196   \n",
              "\n",
              "       consequent support   support  confidence      lift  leverage  \\\n",
              "0                0.910711  0.667119    0.930178  1.021375  0.013961   \n",
              "1                0.717196  0.667119    0.732526  1.021375  0.013961   \n",
              "2                0.913597  0.652521    0.909822  0.995868 -0.002707   \n",
              "3                0.717196  0.652521    0.714233  0.995868 -0.002707   \n",
              "4                0.873196  0.623833    0.869822  0.996136 -0.002420   \n",
              "...                   ...       ...         ...       ...       ...   \n",
              "19479            0.608555  0.504159    0.696366  1.144293  0.063573   \n",
              "19480            0.566627  0.504159    0.665174  1.173918  0.074692   \n",
              "19481            0.535563  0.504159    0.606742  1.132905  0.059145   \n",
              "19482            0.508912  0.504159    0.533981  1.049259  0.023669   \n",
              "19483            0.519267  0.504159    0.577372  1.111898  0.050737   \n",
              "\n",
              "       conviction  \n",
              "0        1.278796  \n",
              "1        1.057314  \n",
              "2        0.958143  \n",
              "3        0.989631  \n",
              "4        0.974082  \n",
              "...           ...  \n",
              "19479    1.289198  \n",
              "19480    1.294321  \n",
              "19481    1.180998  \n",
              "19482    1.053793  \n",
              "19483    1.137485  \n",
              "\n",
              "[19484 rows x 9 columns]"
            ],
            "text/html": [
              "\n",
              "  <div id=\"df-d9daeb39-b26c-4bae-b565-eabc7818dd04\">\n",
              "    <div class=\"colab-df-container\">\n",
              "      <div>\n",
              "<style scoped>\n",
              "    .dataframe tbody tr th:only-of-type {\n",
              "        vertical-align: middle;\n",
              "    }\n",
              "\n",
              "    .dataframe tbody tr th {\n",
              "        vertical-align: top;\n",
              "    }\n",
              "\n",
              "    .dataframe thead th {\n",
              "        text-align: right;\n",
              "    }\n",
              "</style>\n",
              "<table border=\"1\" class=\"dataframe\">\n",
              "  <thead>\n",
              "    <tr style=\"text-align: right;\">\n",
              "      <th></th>\n",
              "      <th>antecedents</th>\n",
              "      <th>consequents</th>\n",
              "      <th>antecedent support</th>\n",
              "      <th>consequent support</th>\n",
              "      <th>support</th>\n",
              "      <th>confidence</th>\n",
              "      <th>lift</th>\n",
              "      <th>leverage</th>\n",
              "      <th>conviction</th>\n",
              "    </tr>\n",
              "  </thead>\n",
              "  <tbody>\n",
              "    <tr>\n",
              "      <th>0</th>\n",
              "      <td>(M)</td>\n",
              "      <td>(Product_Category_1_1)</td>\n",
              "      <td>0.717196</td>\n",
              "      <td>0.910711</td>\n",
              "      <td>0.667119</td>\n",
              "      <td>0.930178</td>\n",
              "      <td>1.021375</td>\n",
              "      <td>0.013961</td>\n",
              "      <td>1.278796</td>\n",
              "    </tr>\n",
              "    <tr>\n",
              "      <th>1</th>\n",
              "      <td>(Product_Category_1_1)</td>\n",
              "      <td>(M)</td>\n",
              "      <td>0.910711</td>\n",
              "      <td>0.717196</td>\n",
              "      <td>0.667119</td>\n",
              "      <td>0.732526</td>\n",
              "      <td>1.021375</td>\n",
              "      <td>0.013961</td>\n",
              "      <td>1.057314</td>\n",
              "    </tr>\n",
              "    <tr>\n",
              "      <th>2</th>\n",
              "      <td>(M)</td>\n",
              "      <td>(Product_Category_1_5)</td>\n",
              "      <td>0.717196</td>\n",
              "      <td>0.913597</td>\n",
              "      <td>0.652521</td>\n",
              "      <td>0.909822</td>\n",
              "      <td>0.995868</td>\n",
              "      <td>-0.002707</td>\n",
              "      <td>0.958143</td>\n",
              "    </tr>\n",
              "    <tr>\n",
              "      <th>3</th>\n",
              "      <td>(Product_Category_1_5)</td>\n",
              "      <td>(M)</td>\n",
              "      <td>0.913597</td>\n",
              "      <td>0.717196</td>\n",
              "      <td>0.652521</td>\n",
              "      <td>0.714233</td>\n",
              "      <td>0.995868</td>\n",
              "      <td>-0.002707</td>\n",
              "      <td>0.989631</td>\n",
              "    </tr>\n",
              "    <tr>\n",
              "      <th>4</th>\n",
              "      <td>(M)</td>\n",
              "      <td>(Product_Category_1_8)</td>\n",
              "      <td>0.717196</td>\n",
              "      <td>0.873196</td>\n",
              "      <td>0.623833</td>\n",
              "      <td>0.869822</td>\n",
              "      <td>0.996136</td>\n",
              "      <td>-0.002420</td>\n",
              "      <td>0.974082</td>\n",
              "    </tr>\n",
              "    <tr>\n",
              "      <th>...</th>\n",
              "      <td>...</td>\n",
              "      <td>...</td>\n",
              "      <td>...</td>\n",
              "      <td>...</td>\n",
              "      <td>...</td>\n",
              "      <td>...</td>\n",
              "      <td>...</td>\n",
              "      <td>...</td>\n",
              "      <td>...</td>\n",
              "    </tr>\n",
              "    <tr>\n",
              "      <th>19479</th>\n",
              "      <td>(Product_Category_2_16.0)</td>\n",
              "      <td>(Product_Category_3_0.0, Product_Category_1_5,...</td>\n",
              "      <td>0.723986</td>\n",
              "      <td>0.608555</td>\n",
              "      <td>0.504159</td>\n",
              "      <td>0.696366</td>\n",
              "      <td>1.144293</td>\n",
              "      <td>0.063573</td>\n",
              "      <td>1.289198</td>\n",
              "    </tr>\n",
              "    <tr>\n",
              "      <th>19480</th>\n",
              "      <td>(Product_Category_2_14.0)</td>\n",
              "      <td>(Product_Category_3_0.0, Product_Category_1_5,...</td>\n",
              "      <td>0.757936</td>\n",
              "      <td>0.566627</td>\n",
              "      <td>0.504159</td>\n",
              "      <td>0.665174</td>\n",
              "      <td>1.173918</td>\n",
              "      <td>0.074692</td>\n",
              "      <td>1.294321</td>\n",
              "    </tr>\n",
              "    <tr>\n",
              "      <th>19481</th>\n",
              "      <td>(Product_Category_2_8.0)</td>\n",
              "      <td>(Product_Category_3_0.0, Product_Category_1_5,...</td>\n",
              "      <td>0.830929</td>\n",
              "      <td>0.535563</td>\n",
              "      <td>0.504159</td>\n",
              "      <td>0.606742</td>\n",
              "      <td>1.132905</td>\n",
              "      <td>0.059145</td>\n",
              "      <td>1.180998</td>\n",
              "    </tr>\n",
              "    <tr>\n",
              "      <th>19482</th>\n",
              "      <td>(Product_Category_2_0.0)</td>\n",
              "      <td>(Product_Category_3_0.0, Product_Category_1_5,...</td>\n",
              "      <td>0.944152</td>\n",
              "      <td>0.508912</td>\n",
              "      <td>0.504159</td>\n",
              "      <td>0.533981</td>\n",
              "      <td>1.049259</td>\n",
              "      <td>0.023669</td>\n",
              "      <td>1.053793</td>\n",
              "    </tr>\n",
              "    <tr>\n",
              "      <th>19483</th>\n",
              "      <td>(Product_Category_1_8)</td>\n",
              "      <td>(Product_Category_3_0.0, Product_Category_1_5,...</td>\n",
              "      <td>0.873196</td>\n",
              "      <td>0.519267</td>\n",
              "      <td>0.504159</td>\n",
              "      <td>0.577372</td>\n",
              "      <td>1.111898</td>\n",
              "      <td>0.050737</td>\n",
              "      <td>1.137485</td>\n",
              "    </tr>\n",
              "  </tbody>\n",
              "</table>\n",
              "<p>19484 rows × 9 columns</p>\n",
              "</div>\n",
              "      <button class=\"colab-df-convert\" onclick=\"convertToInteractive('df-d9daeb39-b26c-4bae-b565-eabc7818dd04')\"\n",
              "              title=\"Convert this dataframe to an interactive table.\"\n",
              "              style=\"display:none;\">\n",
              "        \n",
              "  <svg xmlns=\"http://www.w3.org/2000/svg\" height=\"24px\"viewBox=\"0 0 24 24\"\n",
              "       width=\"24px\">\n",
              "    <path d=\"M0 0h24v24H0V0z\" fill=\"none\"/>\n",
              "    <path d=\"M18.56 5.44l.94 2.06.94-2.06 2.06-.94-2.06-.94-.94-2.06-.94 2.06-2.06.94zm-11 1L8.5 8.5l.94-2.06 2.06-.94-2.06-.94L8.5 2.5l-.94 2.06-2.06.94zm10 10l.94 2.06.94-2.06 2.06-.94-2.06-.94-.94-2.06-.94 2.06-2.06.94z\"/><path d=\"M17.41 7.96l-1.37-1.37c-.4-.4-.92-.59-1.43-.59-.52 0-1.04.2-1.43.59L10.3 9.45l-7.72 7.72c-.78.78-.78 2.05 0 2.83L4 21.41c.39.39.9.59 1.41.59.51 0 1.02-.2 1.41-.59l7.78-7.78 2.81-2.81c.8-.78.8-2.07 0-2.86zM5.41 20L4 18.59l7.72-7.72 1.47 1.35L5.41 20z\"/>\n",
              "  </svg>\n",
              "      </button>\n",
              "      \n",
              "  <style>\n",
              "    .colab-df-container {\n",
              "      display:flex;\n",
              "      flex-wrap:wrap;\n",
              "      gap: 12px;\n",
              "    }\n",
              "\n",
              "    .colab-df-convert {\n",
              "      background-color: #E8F0FE;\n",
              "      border: none;\n",
              "      border-radius: 50%;\n",
              "      cursor: pointer;\n",
              "      display: none;\n",
              "      fill: #1967D2;\n",
              "      height: 32px;\n",
              "      padding: 0 0 0 0;\n",
              "      width: 32px;\n",
              "    }\n",
              "\n",
              "    .colab-df-convert:hover {\n",
              "      background-color: #E2EBFA;\n",
              "      box-shadow: 0px 1px 2px rgba(60, 64, 67, 0.3), 0px 1px 3px 1px rgba(60, 64, 67, 0.15);\n",
              "      fill: #174EA6;\n",
              "    }\n",
              "\n",
              "    [theme=dark] .colab-df-convert {\n",
              "      background-color: #3B4455;\n",
              "      fill: #D2E3FC;\n",
              "    }\n",
              "\n",
              "    [theme=dark] .colab-df-convert:hover {\n",
              "      background-color: #434B5C;\n",
              "      box-shadow: 0px 1px 3px 1px rgba(0, 0, 0, 0.15);\n",
              "      filter: drop-shadow(0px 1px 2px rgba(0, 0, 0, 0.3));\n",
              "      fill: #FFFFFF;\n",
              "    }\n",
              "  </style>\n",
              "\n",
              "      <script>\n",
              "        const buttonEl =\n",
              "          document.querySelector('#df-d9daeb39-b26c-4bae-b565-eabc7818dd04 button.colab-df-convert');\n",
              "        buttonEl.style.display =\n",
              "          google.colab.kernel.accessAllowed ? 'block' : 'none';\n",
              "\n",
              "        async function convertToInteractive(key) {\n",
              "          const element = document.querySelector('#df-d9daeb39-b26c-4bae-b565-eabc7818dd04');\n",
              "          const dataTable =\n",
              "            await google.colab.kernel.invokeFunction('convertToInteractive',\n",
              "                                                     [key], {});\n",
              "          if (!dataTable) return;\n",
              "\n",
              "          const docLinkHtml = 'Like what you see? Visit the ' +\n",
              "            '<a target=\"_blank\" href=https://colab.research.google.com/notebooks/data_table.ipynb>data table notebook</a>'\n",
              "            + ' to learn more about interactive tables.';\n",
              "          element.innerHTML = '';\n",
              "          dataTable['output_type'] = 'display_data';\n",
              "          await google.colab.output.renderOutput(dataTable, element);\n",
              "          const docLink = document.createElement('div');\n",
              "          docLink.innerHTML = docLinkHtml;\n",
              "          element.appendChild(docLink);\n",
              "        }\n",
              "      </script>\n",
              "    </div>\n",
              "  </div>\n",
              "  "
            ]
          },
          "metadata": {},
          "execution_count": 36
        }
      ]
    },
    {
      "cell_type": "markdown",
      "source": [
        "# 5) Listar todas las reglas que sean de alta confianza."
      ],
      "metadata": {
        "id": "UTttHoU-RYgW"
      }
    },
    {
      "cell_type": "code",
      "source": [
        "rules = association_rules(frequent_itemsets, metric='confidence',  min_threshold=0.90)\n",
        "rules"
      ],
      "metadata": {
        "id": "LrQtwdolqDNa"
      },
      "execution_count": null,
      "outputs": []
    },
    {
      "cell_type": "markdown",
      "source": [
        "1- SEGÚN SU CONFIANZA"
      ],
      "metadata": {
        "id": "CVSaVhDjc_cg"
      }
    },
    {
      "cell_type": "code",
      "source": [
        "rules_sort = rules.sort_values(by=['confidence'], ascending=False)\n",
        "rules_sort"
      ],
      "metadata": {
        "id": "w7sG75iqxjNk"
      },
      "execution_count": null,
      "outputs": []
    },
    {
      "cell_type": "markdown",
      "source": [
        "# 6) Dado un antecesor, devolver todas las reglas que contengan a dicho antecesor. \n"
      ],
      "metadata": {
        "id": "yEfhKS7AaAPc"
      }
    },
    {
      "cell_type": "code",
      "source": [
        "antereg=rules_sort[rules_sort['antecedents'].apply(lambda x: 'Age_26-35' in x)]\n",
        "antereg"
      ],
      "metadata": {
        "id": "mhu2sSDAtEwu"
      },
      "execution_count": null,
      "outputs": []
    },
    {
      "cell_type": "markdown",
      "source": [
        "ESTO PORQUE LO HACES?"
      ],
      "metadata": {
        "id": "ih0_mp9Uh5aN"
      }
    },
    {
      "cell_type": "code",
      "source": [
        "if any(rules_sort['antecedents']=={'Medio'})>0:\n",
        "  apariciones_antecedente= sum(rules_sort['antecedents'] =={'Medio'})\n",
        "  print(\"Número de veces que está: \", apariciones_antecedente)\n",
        "else:\n",
        "  print(\"NO esta\")"
      ],
      "metadata": {
        "id": "hRZl7qWgtTwk"
      },
      "execution_count": null,
      "outputs": []
    },
    {
      "cell_type": "code",
      "source": [
        "for i in range(len(rules_sort)):\n",
        "  if rules_sort['antecedents'][i] == {'Medio'}:\n",
        "    print(rules_sort.iloc[i])"
      ],
      "metadata": {
        "id": "zViAuTVUwMOd"
      },
      "execution_count": null,
      "outputs": []
    },
    {
      "cell_type": "markdown",
      "source": [
        "## 6.2) Dado un umbral mínimo devolver todas las reglas que cumplan con dicha confianza."
      ],
      "metadata": {
        "id": "YAZe0oECcI8V"
      }
    },
    {
      "cell_type": "code",
      "source": [
        "rules = association_rules(frequent_itemsets, metric='confidence', min_threshold=0.6)\n",
        "rules"
      ],
      "metadata": {
        "id": "C9RRCW_ydzRC"
      },
      "execution_count": null,
      "outputs": []
    },
    {
      "cell_type": "markdown",
      "source": [
        "# 7) Representar gráficamente las reglas obtenidas\n"
      ],
      "metadata": {
        "id": "tTEjhbREcSWZ"
      }
    },
    {
      "cell_type": "markdown",
      "source": [
        "Es interesante analizar las siguientes graficas:\n",
        "\n",
        "Soporte vs. Cantidad de elementos: Con esta grafica podemos representar el soporte de cada conjunto de elementos de diferentes tamaños. Puede ayudar a identificar los conjuntos de elementos más frecuentes y sus tamaños.\n",
        "\n",
        "Confianza vs. soporte: Este gráfico muestra la confianza de las reglas de asociación frente a su soporte. Puede ayudar a identificar las reglas que son de alta calidad y tienen un alto soporte.\n",
        "\n",
        "Lift vs. soporte: Este puede ayudar a identificar las reglas que tienen mayor impacto significativo en la venta de los elementos.\n"
      ],
      "metadata": {
        "id": "UcPECgd-SC-_"
      }
    },
    {
      "cell_type": "code",
      "source": [
        "plt.scatter(frequent_itemsets.support, frequent_itemsets.itemsets.apply(lambda x: len(x)))\n",
        "plt.xlabel('Soporte')\n",
        "plt.ylabel('Cantidad de elementos')\n",
        "plt.show()\n"
      ],
      "metadata": {
        "id": "5TmDLrZH0ZM1"
      },
      "execution_count": null,
      "outputs": []
    },
    {
      "cell_type": "markdown",
      "source": [
        "Con esta grafica de Soporte vs Cantidad de elementos vemos la cantidad de reglas para cada uno de los k de los itemsets y sus respectivos valores de soporte. Se ve que el mejor soporte lo da los k=1."
      ],
      "metadata": {
        "id": "P5k1Q0GO1Oce"
      }
    },
    {
      "cell_type": "code",
      "source": [
        "plt.xlabel('rules.support')\n",
        "plt.ylabel('rules.condidence')\n",
        "plt.scatter(rules.support, rules.confidence)  "
      ],
      "metadata": {
        "id": "JouNKaTQYjCV"
      },
      "execution_count": null,
      "outputs": []
    },
    {
      "cell_type": "code",
      "source": [
        "plt.xlabel('rules.support')\n",
        "plt.ylabel('rules.condidence')\n",
        "plt.plot(rules['lift'],rules['support'], '*')  \n",
        "plt.plot(rules.lift,rules.support,'*')"
      ],
      "metadata": {
        "id": "x-PqBWTJ3lVf"
      },
      "execution_count": null,
      "outputs": []
    },
    {
      "cell_type": "markdown",
      "source": [
        "## 7.1) Obtener conclusiones a partir de estas"
      ],
      "metadata": {
        "id": "mtqmFmXKcrW8"
      }
    },
    {
      "cell_type": "markdown",
      "source": [
        "- Prueba al menos tres configuraciones de soporte y frecuencia para cada género, edad y tipo de producto."
      ],
      "metadata": {
        "id": "u46w4640ZZ5n"
      }
    },
    {
      "cell_type": "code",
      "source": [
        "# lista de variables dummy \n",
        "dummy_vars = list(data4.columns)\n",
        "#Filtramos para genero, edad y tipo de producto\n",
        "age_vars = [var for var in dummy_vars if var.startswith('Age')]\n",
        "age_data = data4[age_vars]\n",
        "gender_vars = [var for var in dummy_vars if var.startswith('Gender')]\n",
        "gender_data = data4[gender_vars]\n",
        "pc1_vars = [var for var in dummy_vars if var.startswith('Product_Category_1')]\n",
        "pc1_data = data4[pc1_vars]\n",
        "pc2_vars = [var for var in dummy_vars if var.startswith('Product_Category_2')]\n",
        "pc2_data = data4[pc2_vars]\n",
        "pc3_vars = [var for var in dummy_vars if var.startswith('Product_Category_3')]\n",
        "pc3_data = data4[pc3_vars]"
      ],
      "metadata": {
        "id": "--VTITrtgE20"
      },
      "execution_count": null,
      "outputs": []
    },
    {
      "cell_type": "code",
      "source": [
        "dataq1 = pd.concat([age_data, gender_data, pc1_data, pc2_data, pc3_data], axis = 1)\n",
        "frq_items_q1 = apriori(dataq1, min_support = 0.3, use_colnames = True)\n"
      ],
      "metadata": {
        "id": "1WHlIik3ZaGm"
      },
      "execution_count": null,
      "outputs": []
    },
    {
      "cell_type": "code",
      "source": [
        "frq_items_q1_25 = frq_items_q1[frq_items_q1[\"support\"].apply(lambda x: 0.25 <= x)]\n",
        "frq_items_q1_50 = frq_items_q1[frq_items_q1[\"support\"].apply(lambda x: 0.50 <= x)]\n",
        "frq_items_q1_75 = frq_items_q1[frq_items_q1[\"support\"].apply(lambda x: 0.75 <= x)]"
      ],
      "metadata": {
        "id": "ODHFLkyef8fT"
      },
      "execution_count": null,
      "outputs": []
    },
    {
      "cell_type": "code",
      "source": [
        "frq_items_q1_25"
      ],
      "metadata": {
        "id": "D379FSV8tOja"
      },
      "execution_count": null,
      "outputs": []
    },
    {
      "cell_type": "code",
      "source": [
        "frq_items_q1_50"
      ],
      "metadata": {
        "id": "kbhaSvOFtPo3"
      },
      "execution_count": null,
      "outputs": []
    },
    {
      "cell_type": "code",
      "source": [
        "frq_items_q1_75"
      ],
      "metadata": {
        "id": "YI0YIg_7tPsS"
      },
      "execution_count": null,
      "outputs": []
    },
    {
      "cell_type": "markdown",
      "source": [
        "¿Qué tipo reglas desaparecen según la configuración y categorías (género, edad y tipo de producto)\n",
        "consideradas? ¿Por qué?"
      ],
      "metadata": {
        "id": "L_x9meTy4s6T"
      }
    },
    {
      "cell_type": "code",
      "source": [
        "rules_25 = association_rules(frq_items_q1_25, metric = 'confidence', min_threshold=0.51)\n",
        "rules_25"
      ],
      "metadata": {
        "id": "JmebiAFg4vKO"
      },
      "execution_count": null,
      "outputs": []
    },
    {
      "cell_type": "code",
      "source": [
        "rules_50 = association_rules(frq_items_q1_50, metric = 'confidence', min_threshold=0.51)\n",
        "rules_50"
      ],
      "metadata": {
        "id": "THjZwoSM45m5"
      },
      "execution_count": null,
      "outputs": []
    },
    {
      "cell_type": "code",
      "source": [
        "rules_75 = association_rules(frq_items_q1_75, metric = 'confidence', min_threshold=0.51)\n",
        "rules_75"
      ],
      "metadata": {
        "id": "f39t2xq249rv"
      },
      "execution_count": null,
      "outputs": []
    },
    {
      "cell_type": "markdown",
      "source": [
        "Para una de las configuraciones, interpreta algunas de las reglas que te hayan resultado interesantes\n",
        "obtenidas usando la clase association_rules y un par de configuraciones cambiando la variable metric y\n",
        "min_threshold. Justifica los resultados"
      ],
      "metadata": {
        "id": "gYILDGgd5VPv"
      }
    },
    {
      "cell_type": "code",
      "source": [
        "rules_25_lift = association_rules(frq_items_q1_25, metric = 'lift', min_threshold=0.51)\n",
        "rules_25_lift"
      ],
      "metadata": {
        "id": "bha3W0fZ5VZc"
      },
      "execution_count": null,
      "outputs": []
    },
    {
      "cell_type": "code",
      "source": [
        "rules_25_conviction = association_rules(frq_items_q1_25, metric = 'conviction', min_threshold=0.51)\n",
        "rules_25_conviction"
      ],
      "metadata": {
        "id": "dRUrdGo25r3l"
      },
      "execution_count": null,
      "outputs": []
    },
    {
      "cell_type": "code",
      "source": [
        "rules_maximales = rules [max(rules)]\n",
        "rules_maximales.head()"
      ],
      "metadata": {
        "id": "7qgYpf6w4x_9"
      },
      "execution_count": null,
      "outputs": []
    },
    {
      "cell_type": "markdown",
      "source": [
        "2- SEGÚN SU LIFT"
      ],
      "metadata": {
        "id": "ROJKcdIXxzFL"
      }
    },
    {
      "cell_type": "code",
      "source": [
        "rules = association_rules(frequent_itemsets, metric='lift', min_threshold=0.8)\n",
        "rules_sort = rules.sort_values(by=['lift'], ascending=False)\n",
        "rules_sort.head()"
      ],
      "metadata": {
        "id": "DWnzDfagmYVj"
      },
      "execution_count": null,
      "outputs": []
    },
    {
      "cell_type": "code",
      "source": [
        "rules_maximales = rules [max(rules)]\n",
        "rules_maximales.head()"
      ],
      "metadata": {
        "id": "-qHV_s1Y1ndR"
      },
      "execution_count": null,
      "outputs": []
    },
    {
      "cell_type": "markdown",
      "source": [
        "DECIR QUE REGLAS DESAPARECEN DEPENDIENDO DE LAS COMBINACIONES DE CONFIGURACIÓN Y CATEGORÍAS QUE TOMAMOS\n",
        "\n",
        "EJ 1: HOMBRE POSTUNI TIPO PRODUCTO 2 + LIFT \n",
        "\n",
        "EJ 2: MUJER JUBI TIPO PRODUCTO 1 + CONFIANCE"
      ],
      "metadata": {
        "id": "ADMQ8yqLl-uH"
      }
    },
    {
      "cell_type": "markdown",
      "source": [
        "-   Para   una   de   las   configuraciones,   interpreta   algunas   de   las   reglas\n",
        "  que   \n",
        "  te   hayan   resultado   interesantes\n",
        "obtenidas   usando   la   clase  association_rules  y   \n",
        "un   par   de   configuraciones   cambiando   la   variable  metric  y\n",
        "min_threshold.  \n",
        "Justifica los resultados. (1 punto)"
      ],
      "metadata": {
        "id": "Ber1eSlG4g3F"
      }
    },
    {
      "cell_type": "code",
      "source": [
        "rules = association_rules(frequent_itemsets, metric='lift', min_threshold=0.4)\n",
        "rules_sort = rules.sort_values(by=['lift'], ascending=False)\n",
        "rules_sort.head()"
      ],
      "metadata": {
        "id": "4NHpj703-y4t"
      },
      "execution_count": null,
      "outputs": []
    },
    {
      "cell_type": "code",
      "source": [
        "any(rules.duplicated())"
      ],
      "metadata": {
        "id": "EgpkvpwP338z"
      },
      "execution_count": null,
      "outputs": []
    },
    {
      "cell_type": "markdown",
      "source": [
        "- Dadas las mejores configuraciones. ¿Existen reglas o patrones que se repitan? ¿Podemos generalizar  de\n",
        "alguna manera como se comportan los clientes? Expón las conclusiones respaldadas con datos (1 punto)"
      ],
      "metadata": {
        "id": "V7L_pEXRR8Yv"
      }
    },
    {
      "cell_type": "code",
      "source": [
        "plt.xlabel('rules.support')\n",
        "plt.ylabel('rules.condidence')\n",
        "plt.plot(rules.support, rules.confidence, '*')  "
      ],
      "metadata": {
        "id": "pG1_vU163jC2"
      },
      "execution_count": null,
      "outputs": []
    },
    {
      "cell_type": "markdown",
      "source": [
        "#Se Pide:"
      ],
      "metadata": {
        "id": "zjD1XxHYgwXh"
      }
    },
    {
      "cell_type": "markdown",
      "source": [
        "A partir de lo anterior se pide:"
      ],
      "metadata": {
        "id": "JPkUyBrlTfWE"
      }
    },
    {
      "cell_type": "markdown",
      "source": [
        "- Prueba al menos tres configuraciones de soporte y frecuencia para cada género, edad y tipo de producto.\n",
        "(1 punto)"
      ],
      "metadata": {
        "id": "ZfTZJOw6An9D"
      }
    },
    {
      "cell_type": "markdown",
      "source": [
        "- ¿Qué diferencias hay entre usar soporte y frecuencia? Respalda la respuesta con datos"
      ],
      "metadata": {
        "id": "kYqd7ljv09xV"
      }
    },
    {
      "cell_type": "markdown",
      "source": [
        "-   ¿Qué   tipo   reglas   desaparecen   según   la   configuración   y   categorías   ( género,   edad   y   tipo   de   producto)\n",
        "consideradas? ¿Por qué? (1 punto)"
      ],
      "metadata": {
        "id": "0UuqR9ggxuoB"
      }
    },
    {
      "cell_type": "markdown",
      "source": [
        "2 TIPOS DE CLASIFICAR REGLAS SEGÚN SU CONFIGURACIÓN:\n",
        "\n",
        "1- SEGÚN SU CONFIANZA\n",
        "\n",
        "CONFIZANZA= SOPORTE(1) / SOPORTE(1,2)\n",
        "\n",
        "2- SEGÚN SU LIFT\n",
        "\n",
        "LIFT = CONFIANZA / SOPORTE\n",
        "\n",
        "3 TIPOS DE CLASIFICAR REGLAS SEGÚN SU CATEGORÍA:\n",
        "\n",
        "1- GÉNERO 2- EDAD 3- TIPO DE PRODUCTO"
      ],
      "metadata": {
        "id": "WOlpGerBiZEs"
      }
    },
    {
      "cell_type": "markdown",
      "source": [
        "-   Para   una   de   las   configuraciones,   interpreta   algunas   de   las   reglas   que   te   hayan   resultado   interesantes\n",
        "obtenidas   usando   la   clase  association_rules  y   un   par   de   configuraciones   cambiando   la   variable  metric  y\n",
        "min_threshold. Justifica los resultados. (1 punto)"
      ],
      "metadata": {
        "id": "eZWC4cwShgrO"
      }
    },
    {
      "cell_type": "markdown",
      "source": [
        "- Dadas las mejores configuraciones. ¿Existen reglas o patrones que se repitan? ¿Podemos generalizar  de\n",
        "alguna manera como se comportan los clientes? Expón las conclusiones respaldadas con datos (1 punto)"
      ],
      "metadata": {
        "id": "CTBLBt6-hepk"
      }
    }
  ]
}